{
 "cells": [
  {
   "cell_type": "code",
   "execution_count": 62,
   "metadata": {},
   "outputs": [],
   "source": [
    "import sys\n",
    "import torch\n",
    "from scipy.stats import wasserstein_distance\n",
    "import numpy as np\n",
    "import matplotlib.pyplot as plt\n",
    "%matplotlib inline\n",
    "import os\n",
    "os.environ['CUDA_VISIBLE_DEVICES'] = '0, 1'\n",
    "sys.path.append('/extra/yadongl10/BIG_sandbox/SparseImageFlows/SMAF')\n",
    "sys.path.append('/extra/yadongl10/BIG_sandbox/SparseImageFlows/Notebooks')\n",
    "\n",
    "# from plot_utils import discrete_mass, discrete_pt, ChiSquareTest\n",
    "import utils\n",
    "import plot_utils\n",
    "import multiscale_flows as multiscale\n",
    "import imp\n",
    "imp.reload(multiscale)\n",
    "\n",
    "from utils import load_data_LAGAN\n",
    "\n",
    "from plot_utils import discrete_mass, discrete_pt\n",
    "import seaborn as sns\n",
    "from scipy.stats import wasserstein_distance\n",
    "import utils\n",
    "import plot_utils\n",
    "import pickle as pkl\n",
    "import torch.nn as nn\n",
    "import time"
   ]
  },
  {
   "cell_type": "code",
   "execution_count": 2,
   "metadata": {},
   "outputs": [
    {
     "name": "stdout",
     "output_type": "stream",
     "text": [
      "(436333, 25, 25) (436333, 25, 25)\n",
      "return signal\n",
      "(436333, 25, 25) (436333, 25, 25)\n",
      "return background\n"
     ]
    }
   ],
   "source": [
    "n = 36000\n",
    "sg_t = load_data_LAGAN(subset='signal')[-n:]\n",
    "bg_t = load_data_LAGAN(subset='background')[-n:]"
   ]
  },
  {
   "cell_type": "code",
   "execution_count": 63,
   "metadata": {},
   "outputs": [
    {
     "data": {
      "text/plain": [
       "array([  0.        ,   2.78787879,   5.57575758,   8.36363636,\n",
       "        11.15151515,  13.93939394,  16.72727273,  19.51515152,\n",
       "        22.3030303 ,  25.09090909,  27.87878788,  30.66666667,\n",
       "        33.45454545,  36.24242424,  39.03030303,  41.81818182,\n",
       "        44.60606061,  47.39393939,  50.18181818,  52.96969697,\n",
       "        55.75757576,  58.54545455,  61.33333333,  64.12121212,\n",
       "        66.90909091,  69.6969697 ,  72.48484848,  75.27272727,\n",
       "        78.06060606,  80.84848485,  83.63636364,  86.42424242,\n",
       "        89.21212121,  92.        ,  94.78787879,  97.57575758,\n",
       "       100.36363636, 103.15151515, 105.93939394, 108.72727273,\n",
       "       111.51515152, 114.3030303 , 117.09090909, 119.87878788,\n",
       "       122.66666667, 125.45454545, 128.24242424, 131.03030303,\n",
       "       133.81818182, 136.60606061, 139.39393939, 142.18181818,\n",
       "       144.96969697, 147.75757576, 150.54545455, 153.33333333,\n",
       "       156.12121212, 158.90909091, 161.6969697 , 164.48484848,\n",
       "       167.27272727, 170.06060606, 172.84848485, 175.63636364,\n",
       "       178.42424242, 181.21212121, 184.        , 186.78787879,\n",
       "       189.57575758, 192.36363636, 195.15151515, 197.93939394,\n",
       "       200.72727273, 203.51515152, 206.3030303 , 209.09090909,\n",
       "       211.87878788, 214.66666667, 217.45454545, 220.24242424,\n",
       "       223.03030303, 225.81818182, 228.60606061, 231.39393939,\n",
       "       234.18181818, 236.96969697, 239.75757576, 242.54545455,\n",
       "       245.33333333, 248.12121212, 250.90909091, 253.6969697 ,\n",
       "       256.48484848, 259.27272727, 262.06060606, 264.84848485,\n",
       "       267.63636364, 270.42424242, 273.21212121, 276.        ])"
      ]
     },
     "execution_count": 63,
     "metadata": {},
     "output_type": "execute_result"
    }
   ],
   "source": [
    "num_points = 100\n",
    "np.linspace(0, 276, num_points)"
   ]
  },
  {
   "cell_type": "code",
   "execution_count": 18,
   "metadata": {},
   "outputs": [
    {
     "data": {
      "text/plain": [
       "2.787878787878788"
      ]
     },
     "execution_count": 18,
     "metadata": {},
     "output_type": "execute_result"
    }
   ],
   "source": [
    "step = 276 / (num_points- 1)\n",
    "step"
   ]
  },
  {
   "cell_type": "code",
   "execution_count": 14,
   "metadata": {},
   "outputs": [
    {
     "data": {
      "text/plain": [
       "array([ 1., 10., 12., 15., 22., 19.])"
      ]
     },
     "execution_count": 14,
     "metadata": {},
     "output_type": "execute_result"
    }
   ],
   "source": [
    "x = np.array([1.2, 10.0, 12.4, 15.5, 22., 19.6])\n",
    "bins = np.array([0, 5, 10, 15, 20])\n",
    "loc = np.digitize(x,bins,right=False) - 1\n",
    "bins[loc]\n",
    "np.floor(x)"
   ]
  },
  {
   "cell_type": "code",
   "execution_count": 60,
   "metadata": {},
   "outputs": [
    {
     "name": "stderr",
     "output_type": "stream",
     "text": [
      "/home/yadongl1/anaconda3/envs/pytorch/lib/python3.6/site-packages/ipykernel_launcher.py:15: RuntimeWarning: divide by zero encountered in log2\n",
      "  from ipykernel import kernelapp as app\n",
      "/home/yadongl1/anaconda3/envs/pytorch/lib/python3.6/site-packages/ipykernel_launcher.py:15: RuntimeWarning: invalid value encountered in multiply\n",
      "  from ipykernel import kernelapp as app\n"
     ]
    }
   ],
   "source": [
    "def quantize(x, step):\n",
    "    return step * np.floor(x / step + 0.5)\n",
    "\n",
    "def get_entropy(image, num_grid):\n",
    "    \"\"\" get the entropy list for every pixel of a set of images.\n",
    "    \"\"\"\n",
    "    quantize_grid = np.linspace(0, 276, num_grid)\n",
    "    step = 276 / (num_grid - 1)\n",
    "    image = image.reshape(-1, 25 ** 2)\n",
    "    image = quantize(image, step)\n",
    "\n",
    "    prob = np.zeros((625, len(quantize_grid)))\n",
    "    for i, point in enumerate(quantize_grid):\n",
    "        prob[:, i] = np.sum(image == point, axis=0) / image.shape[0]\n",
    "    entropy_matrix = np.where(prob > 0, -prob * np.log2(prob), np.zeros_like(prob))\n",
    "    entropy_list = np.sum(entropy_matrix, axis=1)\n",
    "    return entropy_list\n",
    "\n",
    "entropy_list = get_entropy(sg_t, num_grid=277)\n",
    "ind = np.argsort(entropy_list)[::-1]"
   ]
  },
  {
   "cell_type": "code",
   "execution_count": 57,
   "metadata": {},
   "outputs": [
    {
     "data": {
      "text/plain": [
       "<matplotlib.text.Text at 0x7f6ebd104a20>"
      ]
     },
     "execution_count": 57,
     "metadata": {},
     "output_type": "execute_result"
    },
    {
     "data": {
      "image/png": "[encoded data removed]",
      "text/plain": [
       "<matplotlib.figure.Figure at 0x7f6ebd0ffb38>"
      ]
     },
     "metadata": {
      "needs_background": "light"
     },
     "output_type": "display_data"
    }
   ],
   "source": [
    "plt.bar(np.arange(625), entropy_list)\n",
    "plt.ylabel('Entropy')\n",
    "plt.xlabel('pixel index')"
   ]
  },
  {
   "cell_type": "code",
   "execution_count": 58,
   "metadata": {},
   "outputs": [
    {
     "data": {
      "text/plain": [
       "<matplotlib.colorbar.Colorbar at 0x7f6eb6bb8240>"
      ]
     },
     "execution_count": 58,
     "metadata": {},
     "output_type": "execute_result"
    },
    {
     "data": {
      "image/png": "[encoded data removed]",
      "text/plain": [
       "<matplotlib.figure.Figure at 0x7f6ebc034630>"
      ]
     },
     "metadata": {
      "needs_background": "light"
     },
     "output_type": "display_data"
    }
   ],
   "source": [
    "plt.imshow(entropy_list.reshape(25, 25))\n",
    "plt.colorbar()"
   ]
  },
  {
   "cell_type": "code",
   "execution_count": 59,
   "metadata": {},
   "outputs": [
    {
     "data": {
      "text/plain": [
       "array([7.26949430e-01, 7.24443969e-01, 5.98117974e-01, 5.98003989e-01,\n",
       "       5.91399323e-01, 5.75259117e-01, 5.45521359e-01, 5.31307653e-01,\n",
       "       5.21258239e-01, 4.90309435e-01, 4.85271631e-01, 4.55380086e-01,\n",
       "       4.45221131e-01, 4.37187744e-01, 4.26987126e-01, 3.99891464e-01,\n",
       "       3.81375773e-01, 3.71761631e-01, 3.26954817e-01, 3.13303918e-01,\n",
       "       3.05685904e-01, 2.91457331e-01, 2.81218104e-01, 2.66911615e-01,\n",
       "       2.63589350e-01, 2.62180286e-01, 2.38401513e-01, 2.28100893e-01,\n",
       "       2.18513650e-01, 1.99753194e-01, 1.98403400e-01, 1.85641325e-01,\n",
       "       1.70526672e-01, 1.61594162e-01, 1.54865634e-01, 1.41653982e-01,\n",
       "       1.36613548e-01, 1.35728279e-01, 1.31763784e-01, 1.30497208e-01,\n",
       "       1.24942103e-01, 1.23232860e-01, 1.16199204e-01, 9.64390232e-02,\n",
       "       8.80021336e-02, 8.33848488e-02, 8.28205388e-02, 8.15841304e-02,\n",
       "       8.03224442e-02, 7.87874115e-02, 7.33004170e-02, 7.24657473e-02,\n",
       "       6.79043552e-02, 6.64173359e-02, 6.55395429e-02, 5.53044324e-02,\n",
       "       5.52688257e-02, 5.38443776e-02, 5.34591196e-02, 5.27408255e-02,\n",
       "       4.78276359e-02, 4.36348687e-02, 4.35657720e-02, 4.28193039e-02,\n",
       "       3.83357322e-02, 3.07604902e-02, 2.98866552e-02, 2.91016457e-02,\n",
       "       2.81707095e-02, 2.80425060e-02, 2.75421386e-02, 2.74909561e-02,\n",
       "       2.64021133e-02, 2.61661269e-02, 2.58514148e-02, 2.48257301e-02,\n",
       "       2.46705985e-02, 2.45790312e-02, 2.17398554e-02, 2.17140995e-02,\n",
       "       2.16704570e-02, 1.99371474e-02, 1.97000476e-02, 1.96156515e-02,\n",
       "       1.93443218e-02, 1.89885046e-02, 1.83409412e-02, 1.79996442e-02,\n",
       "       1.77622128e-02, 1.72080484e-02, 1.60198099e-02, 1.52113354e-02,\n",
       "       1.47750104e-02, 1.44972781e-02, 1.42591781e-02, 1.28767560e-02,\n",
       "       1.28297284e-02, 1.23695643e-02, 1.18530018e-02, 1.14157623e-02,\n",
       "       1.13916181e-02, 1.02226009e-02, 1.01430210e-02, 1.00526625e-02,\n",
       "       9.82465621e-03, 9.40904385e-03, 8.63014964e-03, 8.49280463e-03,\n",
       "       8.03251834e-03, 7.85507153e-03, 7.82122368e-03, 7.71367865e-03,\n",
       "       7.43463516e-03, 7.27515712e-03, 7.23528481e-03, 7.11566118e-03,\n",
       "       6.85804013e-03, 6.83650021e-03, 6.49893772e-03, 6.45903186e-03,\n",
       "       6.15830971e-03, 6.15830971e-03, 5.95878042e-03, 5.91887121e-03,\n",
       "       5.79913687e-03, 5.75922318e-03, 5.75922318e-03, 5.62075066e-03,\n",
       "       5.55963801e-03, 5.54088865e-03, 5.28017182e-03, 5.24024362e-03,\n",
       "       5.12045228e-03, 4.64118642e-03, 4.52134482e-03, 4.08183965e-03,\n",
       "       4.08183965e-03, 4.00191511e-03, 3.96195116e-03, 3.88201992e-03,\n",
       "       3.80208422e-03, 3.72214405e-03, 3.68217229e-03, 3.60222542e-03,\n",
       "       3.60222542e-03, 3.54288685e-03, 3.48229675e-03, 3.12245048e-03,\n",
       "       3.12245048e-03, 3.08246198e-03, 2.98294639e-03, 2.96248980e-03,\n",
       "       2.96248980e-03, 2.92249684e-03, 2.88250277e-03, 2.68251566e-03,\n",
       "       2.64251490e-03, 2.64251490e-03, 2.64251490e-03, 2.64251490e-03,\n",
       "       2.56251002e-03, 2.56251002e-03, 2.40248688e-03, 2.36247830e-03,\n",
       "       2.36247830e-03, 2.36247830e-03, 2.32246862e-03, 2.28245781e-03,\n",
       "       2.20243286e-03, 2.16241872e-03, 2.00235098e-03, 1.96233126e-03,\n",
       "       1.92231042e-03, 1.92231042e-03, 1.84226541e-03, 1.76221593e-03,\n",
       "       1.72218952e-03, 1.68216200e-03, 1.64213336e-03, 1.64213336e-03,\n",
       "       1.64213336e-03, 1.60210361e-03, 1.56207274e-03, 1.52204076e-03,\n",
       "       1.52204076e-03, 1.48200766e-03, 1.48200766e-03, 1.44197345e-03,\n",
       "       1.44197345e-03, 1.36190169e-03, 1.36190169e-03, 1.28182547e-03,\n",
       "       1.28182547e-03, 1.28182547e-03, 1.24178569e-03, 1.24178569e-03,\n",
       "       1.20174479e-03, 1.20174479e-03, 1.20174479e-03, 1.20174479e-03,\n",
       "       1.16170278e-03, 1.12165966e-03, 1.12165966e-03, 1.08161542e-03,\n",
       "       1.08161542e-03, 1.08161542e-03, 1.08161542e-03, 1.04157007e-03,\n",
       "       1.04157007e-03, 1.00152360e-03, 9.61476024e-04, 9.61476024e-04,\n",
       "       9.61476024e-04, 9.21427330e-04, 9.21427330e-04, 9.21427330e-04,\n",
       "       9.21427330e-04, 8.41326601e-04, 8.01274566e-04, 8.01274566e-04,\n",
       "       8.01274566e-04, 7.61221416e-04, 7.61221416e-04, 7.21167154e-04,\n",
       "       7.21167154e-04, 7.21167154e-04, 7.21167154e-04, 6.81111777e-04,\n",
       "       6.81111777e-04, 6.81111777e-04, 6.81111777e-04, 6.81111777e-04,\n",
       "       6.81111777e-04, 6.41055286e-04, 6.41055286e-04, 6.41055286e-04,\n",
       "       6.41055286e-04, 6.41055286e-04, 6.00997682e-04, 6.00997682e-04,\n",
       "       6.00997682e-04, 6.00997682e-04, 5.60938965e-04, 5.60938965e-04,\n",
       "       5.60938965e-04, 5.60938965e-04, 5.20879133e-04, 5.20879133e-04,\n",
       "       5.20879133e-04, 5.20879133e-04, 4.80818188e-04, 4.80818188e-04,\n",
       "       4.80818188e-04, 4.80818188e-04, 4.80818188e-04, 4.80818188e-04,\n",
       "       4.80818188e-04, 4.40756130e-04, 4.40756130e-04, 4.40756130e-04,\n",
       "       4.40756130e-04, 4.40756130e-04, 4.40756130e-04, 4.00692958e-04,\n",
       "       4.00692958e-04, 4.00692958e-04, 4.00692958e-04, 4.00692958e-04,\n",
       "       4.00692958e-04, 3.60628672e-04, 3.60628672e-04, 3.60628672e-04,\n",
       "       3.60628672e-04, 3.60628672e-04, 3.20563273e-04, 3.20563273e-04,\n",
       "       3.20563273e-04, 2.80496761e-04, 2.80496761e-04, 2.80496761e-04,\n",
       "       2.80496761e-04, 2.80496761e-04, 2.80496761e-04, 2.80496761e-04,\n",
       "       2.80496761e-04, 2.80496761e-04, 2.80496761e-04, 2.40429135e-04,\n",
       "       2.40429135e-04, 2.40429135e-04, 2.40429135e-04, 2.40429135e-04,\n",
       "       2.40429135e-04, 2.40429135e-04, 2.40429135e-04, 2.40429135e-04,\n",
       "       2.40429135e-04, 2.40429135e-04, 2.40429135e-04, 2.40429135e-04,\n",
       "       2.40429135e-04, 2.40429135e-04, 2.40429135e-04, 2.00360396e-04,\n",
       "       2.00360396e-04, 2.00360396e-04, 2.00360396e-04, 2.00360396e-04,\n",
       "       1.60290543e-04, 1.60290543e-04, 1.60290543e-04, 1.60290543e-04,\n",
       "       1.60290543e-04, 1.60290543e-04, 1.60290543e-04, 1.60290543e-04,\n",
       "       1.60290543e-04, 1.20219577e-04, 1.20219577e-04, 1.20219577e-04,\n",
       "       1.20219577e-04, 1.20219577e-04, 1.20219577e-04, 1.20219577e-04,\n",
       "       1.20219577e-04, 1.20219577e-04, 1.20219577e-04, 1.20219577e-04,\n",
       "       8.01474981e-05, 8.01474981e-05, 8.01474981e-05, 8.01474981e-05,\n",
       "       8.01474981e-05, 8.01474981e-05, 8.01474981e-05, 8.01474981e-05,\n",
       "       8.01474981e-05, 8.01474981e-05, 8.01474981e-05, 8.01474981e-05,\n",
       "       8.01474981e-05, 8.01474981e-05, 8.01474981e-05, 8.01474981e-05,\n",
       "       8.01474981e-05, 8.01474981e-05, 4.00743056e-05, 4.00743056e-05,\n",
       "       4.00743056e-05, 4.00743056e-05, 4.00743056e-05, 4.00743056e-05,\n",
       "       4.00743056e-05, 4.00743056e-05, 4.00743056e-05, 4.00743056e-05,\n",
       "       4.00743056e-05, 4.00743056e-05, 4.00743056e-05, 4.00743056e-05,\n",
       "       4.00743056e-05, 4.00743056e-05, 4.00743056e-05, 4.00743056e-05,\n",
       "       4.00743056e-05, 4.00743056e-05, 4.00743056e-05, 4.00743056e-05,\n",
       "       4.00743056e-05, 0.00000000e+00, 0.00000000e+00, 0.00000000e+00,\n",
       "       0.00000000e+00, 0.00000000e+00, 0.00000000e+00, 0.00000000e+00,\n",
       "       0.00000000e+00, 0.00000000e+00, 0.00000000e+00, 0.00000000e+00,\n",
       "       0.00000000e+00, 0.00000000e+00, 0.00000000e+00, 0.00000000e+00,\n",
       "       0.00000000e+00, 0.00000000e+00, 0.00000000e+00, 0.00000000e+00,\n",
       "       0.00000000e+00, 0.00000000e+00, 0.00000000e+00, 0.00000000e+00,\n",
       "       0.00000000e+00, 0.00000000e+00, 0.00000000e+00, 0.00000000e+00,\n",
       "       0.00000000e+00, 0.00000000e+00, 0.00000000e+00, 0.00000000e+00,\n",
       "       0.00000000e+00, 0.00000000e+00, 0.00000000e+00, 0.00000000e+00,\n",
       "       0.00000000e+00, 0.00000000e+00, 0.00000000e+00, 0.00000000e+00,\n",
       "       0.00000000e+00, 0.00000000e+00, 0.00000000e+00, 0.00000000e+00,\n",
       "       0.00000000e+00, 0.00000000e+00, 0.00000000e+00, 0.00000000e+00,\n",
       "       0.00000000e+00, 0.00000000e+00, 0.00000000e+00, 0.00000000e+00,\n",
       "       0.00000000e+00, 0.00000000e+00, 0.00000000e+00, 0.00000000e+00,\n",
       "       0.00000000e+00, 0.00000000e+00, 0.00000000e+00, 0.00000000e+00,\n",
       "       0.00000000e+00, 0.00000000e+00, 0.00000000e+00, 0.00000000e+00,\n",
       "       0.00000000e+00, 0.00000000e+00, 0.00000000e+00, 0.00000000e+00,\n",
       "       0.00000000e+00, 0.00000000e+00, 0.00000000e+00, 0.00000000e+00,\n",
       "       0.00000000e+00, 0.00000000e+00, 0.00000000e+00, 0.00000000e+00,\n",
       "       0.00000000e+00, 0.00000000e+00, 0.00000000e+00, 0.00000000e+00,\n",
       "       0.00000000e+00, 0.00000000e+00, 0.00000000e+00, 0.00000000e+00,\n",
       "       0.00000000e+00, 0.00000000e+00, 0.00000000e+00, 0.00000000e+00,\n",
       "       0.00000000e+00, 0.00000000e+00, 0.00000000e+00, 0.00000000e+00,\n",
       "       0.00000000e+00, 0.00000000e+00, 0.00000000e+00, 0.00000000e+00,\n",
       "       0.00000000e+00, 0.00000000e+00, 0.00000000e+00, 0.00000000e+00,\n",
       "       0.00000000e+00, 0.00000000e+00, 0.00000000e+00, 0.00000000e+00,\n",
       "       0.00000000e+00, 0.00000000e+00, 0.00000000e+00, 0.00000000e+00,\n",
       "       0.00000000e+00, 0.00000000e+00, 0.00000000e+00, 0.00000000e+00,\n",
       "       0.00000000e+00, 0.00000000e+00, 0.00000000e+00, 0.00000000e+00,\n",
       "       0.00000000e+00, 0.00000000e+00, 0.00000000e+00, 0.00000000e+00,\n",
       "       0.00000000e+00, 0.00000000e+00, 0.00000000e+00, 0.00000000e+00,\n",
       "       0.00000000e+00, 0.00000000e+00, 0.00000000e+00, 0.00000000e+00,\n",
       "       0.00000000e+00, 0.00000000e+00, 0.00000000e+00, 0.00000000e+00,\n",
       "       0.00000000e+00, 0.00000000e+00, 0.00000000e+00, 0.00000000e+00,\n",
       "       0.00000000e+00, 0.00000000e+00, 0.00000000e+00, 0.00000000e+00,\n",
       "       0.00000000e+00, 0.00000000e+00, 0.00000000e+00, 0.00000000e+00,\n",
       "       0.00000000e+00, 0.00000000e+00, 0.00000000e+00, 0.00000000e+00,\n",
       "       0.00000000e+00, 0.00000000e+00, 0.00000000e+00, 0.00000000e+00,\n",
       "       0.00000000e+00, 0.00000000e+00, 0.00000000e+00, 0.00000000e+00,\n",
       "       0.00000000e+00, 0.00000000e+00, 0.00000000e+00, 0.00000000e+00,\n",
       "       0.00000000e+00, 0.00000000e+00, 0.00000000e+00, 0.00000000e+00,\n",
       "       0.00000000e+00, 0.00000000e+00, 0.00000000e+00, 0.00000000e+00,\n",
       "       0.00000000e+00, 0.00000000e+00, 0.00000000e+00, 0.00000000e+00,\n",
       "       0.00000000e+00, 0.00000000e+00, 0.00000000e+00, 0.00000000e+00,\n",
       "       0.00000000e+00, 0.00000000e+00, 0.00000000e+00, 0.00000000e+00,\n",
       "       0.00000000e+00, 0.00000000e+00, 0.00000000e+00, 0.00000000e+00,\n",
       "       0.00000000e+00, 0.00000000e+00, 0.00000000e+00, 0.00000000e+00,\n",
       "       0.00000000e+00, 0.00000000e+00, 0.00000000e+00, 0.00000000e+00,\n",
       "       0.00000000e+00, 0.00000000e+00, 0.00000000e+00, 0.00000000e+00,\n",
       "       0.00000000e+00, 0.00000000e+00, 0.00000000e+00, 0.00000000e+00,\n",
       "       0.00000000e+00, 0.00000000e+00, 0.00000000e+00, 0.00000000e+00,\n",
       "       0.00000000e+00, 0.00000000e+00, 0.00000000e+00, 0.00000000e+00,\n",
       "       0.00000000e+00, 0.00000000e+00, 0.00000000e+00, 0.00000000e+00,\n",
       "       0.00000000e+00, 0.00000000e+00, 0.00000000e+00, 0.00000000e+00,\n",
       "       0.00000000e+00, 0.00000000e+00, 0.00000000e+00, 0.00000000e+00,\n",
       "       0.00000000e+00, 0.00000000e+00, 0.00000000e+00, 0.00000000e+00,\n",
       "       0.00000000e+00, 0.00000000e+00, 0.00000000e+00, 0.00000000e+00,\n",
       "       0.00000000e+00, 0.00000000e+00, 0.00000000e+00, 0.00000000e+00,\n",
       "       0.00000000e+00, 0.00000000e+00, 0.00000000e+00, 0.00000000e+00,\n",
       "       0.00000000e+00, 0.00000000e+00, 0.00000000e+00, 0.00000000e+00,\n",
       "       0.00000000e+00, 0.00000000e+00, 0.00000000e+00, 0.00000000e+00,\n",
       "       0.00000000e+00, 0.00000000e+00, 0.00000000e+00, 0.00000000e+00,\n",
       "       0.00000000e+00, 0.00000000e+00, 0.00000000e+00, 0.00000000e+00,\n",
       "       0.00000000e+00, 0.00000000e+00, 0.00000000e+00, 0.00000000e+00,\n",
       "       0.00000000e+00])"
      ]
     },
     "execution_count": 59,
     "metadata": {},
     "output_type": "execute_result"
    }
   ],
   "source": [
    "entropy_list[np.argsort(entropy_list)[::-1]]\n"
   ]
  },
  {
   "cell_type": "markdown",
   "metadata": {},
   "source": [
    "# load train model\n",
    "1. load model \n",
    "2. generate \n",
    "3. compare metrics as (x, y) axis\n",
    "4. plot "
   ]
  },
  {
   "cell_type": "code",
   "execution_count": null,
   "metadata": {},
   "outputs": [],
   "source": [
    "def load_model(model_dir)\n",
    "    modules = []\n",
    "    modules += [fnn.DiscreteSoftmaxMADE(num_inputs, num_hidden, num_cond_inputs,\n",
    "                                          act=args.activation, num_latent_layer=args.latent)]\n",
    "    model = fnn.FlowSequential(*modules)\n",
    "\n",
    "    checkpoint = torch.load(model_dir + '/model_80.pt')\n",
    "    model = nn.DataParallel(model).to('cuda')\n",
    "    model.load_state_dict(checkpoint)\n",
    "    model.to('cuda')\n",
    "\n",
    "    model_core = modules[0]\n",
    "    model_core = nn.DataParallel(model_core).to('cuda')\n",
    "    return model_core\n",
    "\n",
    "\n",
    "def transform(samples, ind):\n",
    "    inverse_ind = []\n",
    "    for i in range(625):\n",
    "        inverse_ind.append(np.where(ind==i))\n",
    "    inverse_ind = np.asarray(inverse_ind).squeeze()\n",
    "    samples = samples[:, inverse_ind]\n",
    "    return samples\n",
    "\n",
    "\n",
    "def generate(model_core, num_batch, batchsize):\n",
    "    \"\"\"\n",
    "    output: generated data\n",
    "    \"\"\"\n",
    "    print('generate {} in {} batches'.format(num_batch* batchsize, num_batch))\n",
    "    torch.manual_seed(123)\n",
    "    print(torch.cuda.device_count())\n",
    "    \n",
    "    all_samples = np.zeros((num_batch*batchsize, 25, 25))\n",
    "    with torch.no_grad():\n",
    "        for i in range(num_batch):\n",
    "            inputs = torch.tensor(image[i*batchsize:(i+1)*batchsize, :, :]).cuda().view(-1, 625)\n",
    "            inputs, ind = utils.vector_spiral_perm(inputs, dim=25)\n",
    "\n",
    "            start = time.time()\n",
    "            samples = model_core(inputs, mode='inverse')\n",
    "            print(samples.shape)\n",
    "            dur = time.time() - start \n",
    "            print('generated the {}th batch using {} seconds'.format(i, dur))\n",
    "            \n",
    "            samples = transform(samples, ind)\n",
    "            samples = samples.cpu().numpy().reshape(batchsize, 25, 25)\n",
    "            all_samples[i*batchsize: (i+1)*batchsize] = samples\n",
    "    return all_samples\n",
    "\n",
    "def get_distance(image, samples, image_size):\n",
    "    samples[samples < 0] = 0 \n",
    "    pt_dist = wasserstein_distance(plot_utils.discrete_pt(image),\n",
    "                                plot_utils.discrete_pt(np.asarray(samples.tolist()).reshape(-1, image_size, image_size)))\n",
    "    mass_dist = wasserstein_distance(plot_utils.discrete_mass(image),\n",
    "                               plot_utils.discrete_mass(np.asarray(samples.tolist()).reshape(-1, image_size, image_size)))\n",
    "    print('Wasserstein distance Pt:', pt_dist)\n",
    "    print('Wasserstein distance Mass:', mass_dist)\n",
    "    return [pt_dist, mass_dist]"
   ]
  },
  {
   "cell_type": "code",
   "execution_count": null,
   "metadata": {},
   "outputs": [],
   "source": [
    "######################################## main ########################################\n",
    "image_size = 25\n",
    "num_inputs = 625\n",
    "num_samples = 1000\n",
    "model_dir = '/extra/yadongl10/BIG_sandbox/SparseImageFlows_result/sg' +\\\n",
    "'/0304_multi_9_5_batch128_reshapenorm_GeLU_const_lr_400000train/lr_1e-4_act_GeLU_latent_5_spiral'\n",
    "model_dir_list = [\n",
    "    \n",
    "]\n",
    "\n",
    "def main(model_dir):\n",
    "    model_core = load_model(model_dir)\n",
    "    samples = generate(model_core, num_batch=1, batchsize = num_samples)\n",
    "    pt_dist, mass_dist = get_distance(image[:num_samples], samples, image_size)\n",
    "    return [pt_dist, mass_dist]\n",
    "\n",
    "\n",
    "pt_mass_dist_list = [] \n",
    "for model_dir in model_dir_list:\n",
    "    pt_mass_dist_list.append(main(model_dir))\n",
    "    "
   ]
  },
  {
   "cell_type": "markdown",
   "metadata": {},
   "source": [
    "### plot"
   ]
  },
  {
   "cell_type": "code",
   "execution_count": 68,
   "metadata": {},
   "outputs": [
    {
     "data": {
      "image/png": "[encoded data removed]",
      "text/plain": [
       "<matplotlib.figure.Figure at 0x7f6eb6573940>"
      ]
     },
     "metadata": {
      "needs_background": "light"
     },
     "output_type": "display_data"
    }
   ],
   "source": [
    "#%%\n",
    "import matplotlib.pyplot as plt\n",
    "\n",
    "label=['Baseline', 'DFQ 4/8', 'DFQ 4/4', 'UNIQ 4/8', 'RQ 8/8', 'RQ 4/4', 'SR+DR 8/8','TWN',  'DQ', 'DJPQ']\n",
    "markers=['o','1','2','+','h','>','x','p','<','o','d','*','>','3']\n",
    "\n",
    "n=len(pt_mass_dist_list)\n",
    "for i in range(n):\n",
    "    plt.scatter(pt_mass_dist_list[1], pt_mass_dist_list[0], marker=markers[i])\n",
    "plt.legend(label[1:], loc='lower left', bbox_to_anchor= (-0.1, 1.01), ncol=5, \n",
    "            borderaxespad=0, frameon=False)\n",
    "\n",
    "plt.ylabel('Pt distance')\n",
    "plt.xlabel('Mass distance')\n",
    "plt.grid()\n",
    "# plt.savefig('resnet18_bop_vs_acc.eps',format='eps')\n",
    "plt.show()\n",
    "#%%\n"
   ]
  },
  {
   "cell_type": "code",
   "execution_count": null,
   "metadata": {},
   "outputs": [],
   "source": []
  }
 ],
 "metadata": {
  "kernelspec": {
   "display_name": "Python [conda env:pytorch] *",
   "language": "python",
   "name": "conda-env-pytorch-py"
  },
  "language_info": {
   "codemirror_mode": {
    "name": "ipython",
    "version": 3
   },
   "file_extension": ".py",
   "mimetype": "text/x-python",
   "name": "python",
   "nbconvert_exporter": "python",
   "pygments_lexer": "ipython3",
   "version": "3.6.3"
  }
 },
 "nbformat": 4,
 "nbformat_minor": 2
}
