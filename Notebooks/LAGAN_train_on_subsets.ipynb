{
 "cells": [
  {
   "cell_type": "code",
   "execution_count": 124,
   "metadata": {},
   "outputs": [],
   "source": [
    "%matplotlib inline\n",
    "import sys\n",
    "import matplotlib.pyplot as plt\n",
    "import numpy as np\n",
    "import h5py\n",
    "import random\n",
    "import pickle as pkl\n",
    "import os\n",
    "import torch\n",
    "sys.path.append('/extra/yadongl10/BIG_sandbox/SparseImageFlows')\n",
    "import data_loader\n",
    "import imp\n",
    "imp.reload(data_loader)\n",
    "# from flow import PixelwiseGenerator\n",
    "from torch.distributions import Normal, Bernoulli\n",
    "import h5py\n",
    "import numpy as np\n",
    "import utils\n",
    "from data_loader import load_LAGAN, load_data_LAGAN\n",
    "from plot_utils import discrete_mass, discrete_pt, tau21, _tau1, _tau2\n",
    "img_dir = \"/baldig/physicsprojects/lagan\"\n"
   ]
  },
  {
   "cell_type": "code",
   "execution_count": null,
   "metadata": {
    "collapsed": true
   },
   "outputs": [],
   "source": []
  },
  {
   "cell_type": "code",
   "execution_count": 2,
   "metadata": {
    "collapsed": true
   },
   "outputs": [],
   "source": [
    "# config = {\n",
    "#         \"batch_size\": 512,\n",
    "#         \"epochs\": 30,\n",
    "#         \"initial_lr\": 0.001,\n",
    "#         \"lr_decay\": 0.999,\n",
    "#         \"flow_length\": 16,\n",
    "#         \"name\": \"planar\",\n",
    "#         \"width\": 25,\n",
    "#         \"save_result_intervel\": 1\n",
    "#     }"
   ]
  },
  {
   "cell_type": "code",
   "execution_count": 3,
   "metadata": {},
   "outputs": [
    {
     "name": "stdout",
     "output_type": "stream",
     "text": [
      "Load model from path /extra/yadongl10/BIG_sandbox/SparseImageFlows_result/LAGAN_pixelwise/background\n"
     ]
    }
   ],
   "source": [
    "# device = 'cuda'\n",
    "# model = PixelwiseGenerator(base_dim=32, img_dim=25 ** 2).to(device)\n",
    "# def load_pretrained(subset='signal'):\n",
    "#     path = '/extra/yadongl10/BIG_sandbox/SparseImageFlows_result/LAGAN_pixelwise/'+subset\n",
    "#     print('Load model from path', path)\n",
    "#     checkpoint = torch.load(path+'/best_checkpoints.pt')\n",
    "#     model.load_state_dict(checkpoint)\n",
    "#     return model\n",
    "# # model_sg = load_pretrained(subset='signal')\n",
    "# model_bg = load_pretrained(subset='background')\n"
   ]
  },
  {
   "cell_type": "code",
   "execution_count": 13,
   "metadata": {},
   "outputs": [
    {
     "data": {
      "text/plain": [
       "tensor(2.9258, device='cuda:0', grad_fn=<MaxBackward1>)"
      ]
     },
     "execution_count": 13,
     "metadata": {},
     "output_type": "execute_result"
    }
   ],
   "source": [
    "# numsamples = 10000\n",
    "# noisesamples = Normal(loc=0, scale=1).sample([numsamples, 32]).cuda()\n",
    "# noisesamples_beta = Normal(loc=0, scale=1).sample([numsamples, 1,\n",
    "#                                                    25, 25]).cuda()\n",
    "# pi, beta, std = model_bg(noisesamples, noisesamples_beta)\n",
    "# std.max()"
   ]
  },
  {
   "cell_type": "code",
   "execution_count": 5,
   "metadata": {},
   "outputs": [
    {
     "name": "stdout",
     "output_type": "stream",
     "text": [
      "std.max 2.9355454444885254 img.max 13.2397\n"
     ]
    }
   ],
   "source": [
    "# def get_samples(model, config):\n",
    "#     numsamples = 10000\n",
    "#     noisesamples = Normal(loc=0, scale=1).sample([numsamples, 32]).cuda()\n",
    "#     noisesamples_beta = Normal(loc=0, scale=1).sample([numsamples, 1,\n",
    "#                                                        25, 25]).cuda()\n",
    "#     pi, beta, std = model(noisesamples, noisesamples_beta)\n",
    "\n",
    "#     sample = utils.get_img_sample(config, pi, beta, std)\n",
    "#     print('std.max', std.max().tolist(), 'img.max', sample.max())\n",
    "#     return sample\n",
    "# # samples_sg = get_samples(model_sg, config)\n",
    "# samples_bg = get_samples(model_bg, config)\n"
   ]
  },
  {
   "cell_type": "code",
   "execution_count": 10,
   "metadata": {},
   "outputs": [],
   "source": [
    "# samples_bg = np.exp(samples_bg[samples_bg>0])"
   ]
  },
  {
   "cell_type": "code",
   "execution_count": 11,
   "metadata": {},
   "outputs": [
    {
     "data": {
      "image/png": "[encoded data removed]",
      "text/plain": [
       "<matplotlib.figure.Figure at 0x2add97ec0e48>"
      ]
     },
     "metadata": {
      "needs_background": "light"
     },
     "output_type": "display_data"
    }
   ],
   "source": [
    "# _, bins, _ = plt.hist(samples_bg.ravel(),  # to make sure have same amount of samples\n",
    "#            bins=np.linspace(0,100,50), histtype='step', label='Generated bg', color='blue')"
   ]
  },
  {
   "cell_type": "markdown",
   "metadata": {},
   "source": [
    "# Separate sg/bg"
   ]
  },
  {
   "cell_type": "code",
   "execution_count": 225,
   "metadata": {},
   "outputs": [
    {
     "name": "stdout",
     "output_type": "stream",
     "text": [
      "(4374, 25, 25) (5626, 25, 25)\n"
     ]
    }
   ],
   "source": [
    "# img_dir = \"/baldig/physicsprojects/lagan\"\n",
    "# num = 10000\n",
    "# with h5py.File(img_dir+'/lagan-jet-images.hdf5', 'r') as f:\n",
    "#     image = np.asarray(f['image'][:num,:,:])\n",
    "#     real_labels = np.asarray(f['signal'][:num])\n",
    "# image_bg  = image[real_labels==0]\n",
    "# image_sg  = image[real_labels==1]\n",
    "# print(image_bg.shape, image_sg.shape)"
   ]
  },
  {
   "cell_type": "code",
   "execution_count": null,
   "metadata": {},
   "outputs": [],
   "source": []
  },
  {
   "cell_type": "code",
   "execution_count": 9,
   "metadata": {},
   "outputs": [
    {
     "data": {
      "text/plain": [
       "<matplotlib.legend.Legend at 0x2b1638850dd8>"
      ]
     },
     "execution_count": 9,
     "metadata": {},
     "output_type": "execute_result"
    },
    {
     "data": {
      "image/png": "[encoded data removed]",
      "text/plain": [
       "<matplotlib.figure.Figure at 0x2b161fec61d0>"
      ]
     },
     "metadata": {
      "needs_background": "light"
     },
     "output_type": "display_data"
    }
   ],
   "source": [
    "# fig, ax = plt.subplots(figsize=(6, 6))\n",
    "# _, bins, _ = plt.hist(samples_bg[:image_bg.shape[0]].ravel(),  # to make sure have same amount of samples\n",
    "#            bins=np.linspace(0,300,50), histtype='step', label='Generated bg', color='blue')\n",
    "# # _, bins, _ = plt.hist(samples_sg[:image_sg.shape[0]].ravel(), \n",
    "# #            bins=np.linspace(0,500,50), histtype='step', label='Generated sg', color='blue', linestyle='dashed')\n",
    "\n",
    "# _, bins, _ = plt.hist(image_bg.ravel(), \n",
    "#            bins=np.linspace(0,300,50), histtype='step', label='Pythia bg', color='purple')\n",
    "# # _, bins, _ = plt.hist(image_sg.ravel(), \n",
    "# #            bins=np.linspace(0,300,50), histtype='step', label='Pythia sg', color='purple', linestyle='dashed')\n",
    "\n",
    "# plt.xlabel('Pixel Intensity')\n",
    "# plt.ylabel('Number of Pixels')\n",
    "# plt.yscale('log')\n",
    "# plt.legend(loc='upper right')"
   ]
  },
  {
   "cell_type": "code",
   "execution_count": 8,
   "metadata": {},
   "outputs": [
    {
     "data": {
      "text/plain": [
       "<matplotlib.legend.Legend at 0x2add2cd050b8>"
      ]
     },
     "execution_count": 8,
     "metadata": {},
     "output_type": "execute_result"
    },
    {
     "data": {
      "image/png": "[encoded data removed]",
      "text/plain": [
       "<matplotlib.figure.Figure at 0x2add955ada58>"
      ]
     },
     "metadata": {
      "needs_background": "light"
     },
     "output_type": "display_data"
    }
   ],
   "source": [
    "# # log scale\n",
    "# px = 12\n",
    "# py = 13\n",
    "# pixel_vector = image[:,px, py]\n",
    "# pixel_vector_sg = samples_bg[:, px, py]\n",
    "# _, bins, _ = plt.hist(np.log(pixel_vector[pixel_vector>0]).ravel(), \n",
    "#            bins=50, histtype='step', label='Pythia', color='purple')\n",
    "# _, bins, _ = plt.hist(np.log(pixel_vector_sg[pixel_vector_sg>0]).ravel(), \n",
    "#            bins=50, histtype='step', label='Generated', color='blue')\n",
    "# plt.legend()"
   ]
  },
  {
   "cell_type": "code",
   "execution_count": 2,
   "metadata": {},
   "outputs": [],
   "source": [
    "# # original scale\n",
    "# px = 12\n",
    "# py = 12\n",
    "# pixel_vector = image_bg[:,px, py]\n",
    "# pixel_vector_sg = samples_bg[:, px, py]\n",
    "# _, bins, _ = plt.hist(pixel_vector[pixel_vector>0].ravel(), \n",
    "#            bins=50, histtype='step', label='Pythia', color='purple')\n",
    "# _, bins, _ = plt.hist(pixel_vector_sg[pixel_vector_sg>0].ravel(), \n",
    "#            bins=50, histtype='step', label='Generated', color='blue')\n",
    "# plt.legend()"
   ]
  },
  {
   "cell_type": "code",
   "execution_count": null,
   "metadata": {
    "collapsed": true
   },
   "outputs": [],
   "source": []
  },
  {
   "cell_type": "markdown",
   "metadata": {},
   "source": [
    "# Gamma model"
   ]
  },
  {
   "cell_type": "code",
   "execution_count": 377,
   "metadata": {},
   "outputs": [
    {
     "name": "stdout",
     "output_type": "stream",
     "text": [
      "(436333, 25, 25) (436333, 25, 25)\n",
      "return signal\n"
     ]
    }
   ],
   "source": [
    "# img_dir = \"/baldig/physicsprojects/lagan\"\n",
    "# with h5py.File(img_dir+'/lagan-jet-images.hdf5', 'r') as f:\n",
    "#     image = np.asarray(f['image'][:1000,:,:])\n",
    "    \n",
    "image = load_data_LAGAN(subset='signal')\n",
    "# image = image[:1000]"
   ]
  },
  {
   "cell_type": "code",
   "execution_count": 1196,
   "metadata": {},
   "outputs": [],
   "source": [
    "with open('/extra/yadongl10/BIG_sandbox/SparseImageFlows_result/jet_smaf' + '/img_sample_85.pkl', 'rb') as f:\n",
    "    x = pkl.load(f)\n",
    "samples_bg = np.asarray(x).reshape(-1, 25, 25)"
   ]
  },
  {
   "cell_type": "code",
   "execution_count": 1195,
   "metadata": {},
   "outputs": [
    {
     "data": {
      "text/plain": [
       "<matplotlib.legend.Legend at 0x2b7ba6a087f0>"
      ]
     },
     "execution_count": 1195,
     "metadata": {},
     "output_type": "execute_result"
    },
    {
     "data": {
      "image/png": "[encoded data removed]",
      "text/plain": [
       "<matplotlib.figure.Figure at 0x2b7ba6c76f28>"
      ]
     },
     "metadata": {
      "needs_background": "light"
     },
     "output_type": "display_data"
    }
   ],
   "source": [
    "from scipy.stats import gamma\n",
    "\n",
    "x=12\n",
    "y=12\n",
    "pixel_bg = samples_bg[:,x,y]\n",
    "pixel_bg = pixel_bg[pixel_bg>=0]\n",
    "pixel = image[:,x,y]\n",
    "pixel = pixel[pixel>=0]\n",
    "x = np.linspace(0.0,200, 1000)\n",
    "# plt.plot(x, gamma.pdf(x, a = 15, scale = 1))\n",
    "sns.distplot(pixel, label='Truth')\n",
    "sns.distplot(pixel_bg, label='sample')\n",
    "plt.legend()\n",
    "\n"
   ]
  },
  {
   "cell_type": "code",
   "execution_count": 898,
   "metadata": {},
   "outputs": [
    {
     "data": {
      "text/plain": [
       "<matplotlib.colorbar.Colorbar at 0x2b7b9110f860>"
      ]
     },
     "execution_count": 898,
     "metadata": {},
     "output_type": "execute_result"
    },
    {
     "data": {
      "image/png": "[encoded data removed]",
      "text/plain": [
       "<matplotlib.figure.Figure at 0x2b7b910d2550>"
      ]
     },
     "metadata": {
      "needs_background": "light"
     },
     "output_type": "display_data"
    }
   ],
   "source": [
    "plt.imshow(samples_bg.mean(axis=0))\n",
    "plt.colorbar()"
   ]
  },
  {
   "cell_type": "markdown",
   "metadata": {},
   "source": [
    "# truncated normal model"
   ]
  },
  {
   "cell_type": "markdown",
   "metadata": {},
   "source": [
    "## Load data"
   ]
  },
  {
   "cell_type": "code",
   "execution_count": 3,
   "metadata": {},
   "outputs": [
    {
     "name": "stdout",
     "output_type": "stream",
     "text": [
      "(21099, 25, 25) (38901, 25, 25)\n",
      "return signal\n",
      "real (20000, 25, 25)\n",
      "lagan (20000, 25, 25)\n"
     ]
    }
   ],
   "source": [
    "# with open('/extra/yadongl10/BIG_sandbox/SparseImageFlows_result/jet_peter_smaf' + '/MixNorm_img_sample_400.pkl', 'rb') as f:\n",
    "#     x = pkl.load(f)\n",
    "# samples_bg = np.asarray(x).reshape(-1, 25, 25)\n",
    "\n",
    "\n",
    "num = 20000\n",
    "image = load_LAGAN(num=3*num, signal=1)[:num]\n",
    "img_dir = \"/baldig/physicsprojects/lagan\"\n",
    "with h5py.File(img_dir+'/lagan_data.h5', 'r') as f:\n",
    "    samples_lagan = np.asarray(f['lagan_generated_signal_images'][:num,:,:])\n",
    "    \n",
    "print('real', image.shape)   \n",
    "print('lagan', samples_lagan.shape)\n",
    "# print('ours', samples_bg.shape)\n",
    "\n"
   ]
  },
  {
   "cell_type": "markdown",
   "metadata": {},
   "source": [
    "## all data"
   ]
  },
  {
   "cell_type": "code",
   "execution_count": 7,
   "metadata": {},
   "outputs": [
    {
     "name": "stdout",
     "output_type": "stream",
     "text": [
      "(436333, 25, 25) (436333, 25, 25)\n",
      "return signal\n",
      "samples lagan shape (20000, 25, 25)\n"
     ]
    }
   ],
   "source": [
    "# # all data set \n",
    "# image = load_data_LAGAN(subset='signal')\n",
    "# with h5py.File(img_dir+'/lagan_data.h5', 'r') as f:\n",
    "#     samples_lagan = np.asarray(f['lagan_generated_signal_images'])\n",
    "# print('samples lagan shape', samples_lagan.shape)    "
   ]
  },
  {
   "cell_type": "code",
   "execution_count": 4,
   "metadata": {},
   "outputs": [
    {
     "data": {
      "text/plain": [
       "FlowSequential(\n",
       "  (0): MixtureNormalMADE(\n",
       "    (joiner): MaskedLinear(\n",
       "      (linear): Linear(in_features=625, out_features=1024, bias=True)\n",
       "    )\n",
       "    (trunk): Sequential(\n",
       "      (0): Sigmoid()\n",
       "      (1): MaskedLinear(\n",
       "        (linear): Linear(in_features=1024, out_features=1024, bias=True)\n",
       "      )\n",
       "      (2): Sigmoid()\n",
       "      (3): MaskedLinear(\n",
       "        (linear): Linear(in_features=1024, out_features=1024, bias=True)\n",
       "      )\n",
       "      (4): Sigmoid()\n",
       "      (5): MaskedLinear(\n",
       "        (linear): Linear(in_features=1024, out_features=1875, bias=True)\n",
       "      )\n",
       "    )\n",
       "    (ParameterFilter): ParameterFilter(\n",
       "      (AffineTransform_gamma): AffineTransform(\n",
       "        (ElementWiseLinear_weight): ElementWiseLinear(\n",
       "          (conv): Conv1d(2, 1, kernel_size=(1,), stride=(1,))\n",
       "        )\n",
       "        (ElementWiseLinear_bias): ElementWiseLinear(\n",
       "          (conv): Conv1d(2, 1, kernel_size=(1,), stride=(1,))\n",
       "        )\n",
       "      )\n",
       "      (AffineTransform_mu): AffineTransform(\n",
       "        (ElementWiseLinear_weight): ElementWiseLinear(\n",
       "          (conv): Conv1d(2, 1, kernel_size=(1,), stride=(1,))\n",
       "        )\n",
       "        (ElementWiseLinear_bias): ElementWiseLinear(\n",
       "          (conv): Conv1d(2, 1, kernel_size=(1,), stride=(1,))\n",
       "        )\n",
       "      )\n",
       "      (AffineTransform_logstd): AffineTransform(\n",
       "        (ElementWiseLinear_weight): ElementWiseLinear(\n",
       "          (conv): Conv1d(2, 1, kernel_size=(1,), stride=(1,))\n",
       "        )\n",
       "        (ElementWiseLinear_bias): ElementWiseLinear(\n",
       "          (conv): Conv1d(2, 1, kernel_size=(1,), stride=(1,))\n",
       "        )\n",
       "      )\n",
       "    )\n",
       "  )\n",
       ")"
      ]
     },
     "execution_count": 4,
     "metadata": {},
     "output_type": "execute_result"
    }
   ],
   "source": [
    "import sys\n",
    "sys.path.append('/extra/yadongl10/BIG_sandbox/SparseImageFlows/SMAF')\n",
    "# imp.reload(mixflows)\n",
    "import mixflows as fnn\n",
    "\n",
    "num_inputs = 625\n",
    "num_hidden = 1024\n",
    "num_cond_inputs = None\n",
    "modules = [fnn.MixtureNormalMADE(num_inputs, num_hidden, num_cond_inputs, act='sigmoid')]\n",
    "model = fnn.FlowSequential(*modules)\n",
    "# print(model)\n",
    "path = '/extra/yadongl10/BIG_sandbox/SparseImageFlows_result/jet_peter_smaf'\n",
    "checkpoint = torch.load(path + '/Pjet_model_500.pt')\n",
    "model.load_state_dict(checkpoint)\n",
    "\n",
    "model.to('cuda')"
   ]
  },
  {
   "cell_type": "code",
   "execution_count": 5,
   "metadata": {},
   "outputs": [
    {
     "name": "stdout",
     "output_type": "stream",
     "text": [
      "(20000, 25, 25)\n"
     ]
    }
   ],
   "source": [
    "samples_bg = model.sample(num_samples=20000, input_size=625).view(-1, 25, 25)\n",
    "samples_bg[samples_bg<0] = 0\n",
    "samples_bg = samples_bg.cpu().numpy()\n",
    "print(samples_bg.shape)"
   ]
  },
  {
   "cell_type": "code",
   "execution_count": null,
   "metadata": {},
   "outputs": [],
   "source": []
  },
  {
   "cell_type": "markdown",
   "metadata": {},
   "source": [
    "## Compute distance"
   ]
  },
  {
   "cell_type": "code",
   "execution_count": 47,
   "metadata": {},
   "outputs": [
    {
     "name": "stdout",
     "output_type": "stream",
     "text": [
      "ours pt distance 3.08118621417\n",
      "lagan pt distance 3.27705354424\n"
     ]
    }
   ],
   "source": [
    "from scipy.stats import wasserstein_distance\n",
    "# distance of pt \n",
    "print('ours pt distance', wasserstein_distance(discrete_pt(image[:20000]), discrete_pt(samples_bg)))\n",
    "print('lagan pt distance', wasserstein_distance(discrete_pt(image[:20000]), discrete_pt(samples_lagan)))"
   ]
  },
  {
   "cell_type": "code",
   "execution_count": 48,
   "metadata": {},
   "outputs": [
    {
     "name": "stdout",
     "output_type": "stream",
     "text": [
      "2.05144878609\n",
      "1.47042105251\n"
     ]
    }
   ],
   "source": [
    "# distance of mass \n",
    "print(wasserstein_distance(discrete_mass(image[:20000]), discrete_mass(samples_bg)))\n",
    "print(wasserstein_distance(discrete_mass(image[:20000]), discrete_mass(samples_lagan)))"
   ]
  },
  {
   "cell_type": "code",
   "execution_count": 43,
   "metadata": {},
   "outputs": [
    {
     "data": {
      "text/plain": [
       "(20000, 25, 25)"
      ]
     },
     "execution_count": 43,
     "metadata": {},
     "output_type": "execute_result"
    }
   ],
   "source": [
    "samples_lagan.shape"
   ]
  },
  {
   "cell_type": "markdown",
   "metadata": {},
   "source": [
    "# Mass"
   ]
  },
  {
   "cell_type": "code",
   "execution_count": 88,
   "metadata": {},
   "outputs": [
    {
     "data": {
      "text/plain": [
       "<matplotlib.legend.Legend at 0x2b869d487160>"
      ]
     },
     "execution_count": 88,
     "metadata": {},
     "output_type": "execute_result"
    },
    {
     "data": {
      "image/png": "[encoded data removed]",
      "text/plain": [
       "<matplotlib.figure.Figure at 0x2b869d487400>"
      ]
     },
     "metadata": {},
     "output_type": "display_data"
    }
   ],
   "source": [
    "fig, ax = plt.subplots(figsize=(6, 6))\n",
    "bins = np.linspace(40, 120, 50)\n",
    "mass_image, _, _ = plt.hist(discrete_mass(image[:20000]), \n",
    "             bins=bins, histtype='step', label=r'Truth sg', normed=False, color='blue', linestyle='dashed')\n",
    "mass_samples, _, _ = plt.hist(discrete_mass(samples_bg), \n",
    "             bins=bins, histtype='step', label=r'Ours sg', normed=False, color='purple', linestyle='solid')\n",
    "mass_lagan, _, _ = plt.hist(discrete_mass(samples_lagan), \n",
    "             bins=bins, histtype='step', label=r'LAGAN sg', normed=False, color='green', linestyle='solid')\n",
    "plt.xlabel(r'Discretized $m$ of Jet Image')\n",
    "plt.ylabel(r'Units normalized to unit area')\n",
    "plt.legend()\n",
    "# plt.ylim(0, 0.11)\n"
   ]
  },
  {
   "cell_type": "code",
   "execution_count": 69,
   "metadata": {},
   "outputs": [
    {
     "data": {
      "text/plain": [
       "<matplotlib.text.Text at 0x2b87173d0d68>"
      ]
     },
     "execution_count": 69,
     "metadata": {},
     "output_type": "execute_result"
    },
    {
     "data": {
      "image/png": "[encoded data removed]",
      "text/plain": [
       "<matplotlib.figure.Figure at 0x2b8717b4b400>"
      ]
     },
     "metadata": {
      "needs_background": "light"
     },
     "output_type": "display_data"
    }
   ],
   "source": [
    "plt.bar(bins[:-1], mass_image - mass_samples, label='Ours',alpha=0.8)\n",
    "plt.bar(bins[:-1], mass_image - mass_lagan, label='LAGAN',alpha=0.5)\n",
    "plt.legend()\n",
    "plt.title('Relative Difference of Truth and Generated Samples (Mass)')"
   ]
  },
  {
   "cell_type": "code",
   "execution_count": 117,
   "metadata": {},
   "outputs": [
    {
     "data": {
      "text/plain": [
       "<matplotlib.text.Text at 0x2b87a9627cf8>"
      ]
     },
     "execution_count": 117,
     "metadata": {},
     "output_type": "execute_result"
    },
    {
     "data": {
      "image/png": "[encoded data removed]",
      "text/plain": [
       "<matplotlib.figure.Figure at 0x2b87a9512240>"
      ]
     },
     "metadata": {},
     "output_type": "display_data"
    }
   ],
   "source": [
    "plt.plot(bins[:-1], mass_image - mass_samples, '.', label='Ours')\n",
    "plt.plot(bins[:-1], mass_image - mass_lagan, '.', label='LAGAN')\n",
    "# plt.\n",
    "plt.legend()\n",
    "plt.title('Relative Difference of Truth and Generated Samples (Mass)')"
   ]
  },
  {
   "cell_type": "code",
   "execution_count": 138,
   "metadata": {},
   "outputs": [
    {
     "data": {
      "text/plain": [
       "<matplotlib.text.Text at 0x2b87aa213cc0>"
      ]
     },
     "execution_count": 138,
     "metadata": {},
     "output_type": "execute_result"
    },
    {
     "data": {
      "image/png": "[encoded data removed]",
      "text/plain": [
       "<matplotlib.figure.Figure at 0x2b87aa13d0f0>"
      ]
     },
     "metadata": {},
     "output_type": "display_data"
    }
   ],
   "source": [
    "plt.plot(bins[:-1], (mass_image - mass_samples)/np.sum(mass_image), '.', label='Ours')\n",
    "plt.plot(bins[:-1], (mass_image - mass_lagan)/np.sum(mass_image), '.', label='LAGAN')\n",
    "# plt.\n",
    "plt.legend()\n",
    "# plt.ylim(-2,1)\n",
    "plt.title('Normalized Difference of Truth and Generated Samples (Mass)')\n",
    "\n",
    "\n"
   ]
  },
  {
   "cell_type": "markdown",
   "metadata": {},
   "source": [
    "# Pt"
   ]
  },
  {
   "cell_type": "code",
   "execution_count": 87,
   "metadata": {},
   "outputs": [
    {
     "data": {
      "text/plain": [
       "<matplotlib.legend.Legend at 0x2b8760dffd68>"
      ]
     },
     "execution_count": 87,
     "metadata": {},
     "output_type": "execute_result"
    },
    {
     "data": {
      "image/png": "[encoded data removed]",
      "text/plain": [
       "<matplotlib.figure.Figure at 0x2b8717c5beb8>"
      ]
     },
     "metadata": {},
     "output_type": "display_data"
    }
   ],
   "source": [
    "fig, ax = plt.subplots(figsize=(6, 6))\n",
    "bins = np.linspace(200, 340, 50)\n",
    "\n",
    "pt_image, _, _ = plt.hist(discrete_pt(image[:20000]), \n",
    "             bins=bins, histtype='step', label=r'Truth ($W->WD$)', normed=False, color='blue', linestyle='dashed')\n",
    "pt_samples, _, _ = plt.hist(discrete_pt(samples_bg), \n",
    "             bins=bins, histtype='step', label=r'Ours ($W->WD$)', normed=False, color='purple')\n",
    "pt_lagan, _, _ = plt.hist(discrete_pt(samples_lagan), \n",
    "             bins=bins, histtype='step', label=r'LAGAN ($W->WD$)', normed=False, color='green', linestyle='dashed')\n",
    "plt.xlabel(r'Discretized $p_T$ of Jet Image')\n",
    "plt.ylabel(r'Units normalized to unit area')\n",
    "plt.legend()\n",
    "# plt.ylim(0, 0.045)\n"
   ]
  },
  {
   "cell_type": "code",
   "execution_count": 56,
   "metadata": {},
   "outputs": [
    {
     "name": "stdout",
     "output_type": "stream",
     "text": [
      "pt_dist, mass_dist 1.87228703826 2.05928063593\n"
     ]
    }
   ],
   "source": [
    "pt_ours = discrete_pt(samples_bg)\n",
    "mass_ours = discrete_mass(samples_bg)\n",
    "\n",
    "def truncated_pt_mass(pt_ours, mass_ours):\n",
    "    pt_ours = pt_ours[np.where(pt_ours>230)]\n",
    "    mass_ours = mass_ours[np.where(pt_ours>230)]\n",
    "    \n",
    "    pt_ours = pt_ours[np.where(pt_ours<300)]\n",
    "    mass_ours = mass_ours[np.where(pt_ours<300)]\n",
    "    \n",
    "    mass_dist = wasserstein_distance(discrete_mass(image[:mass_ours.shape[0]]), mass_ours)\n",
    "    pt_dist = wasserstein_distance(discrete_pt(image[:mass_ours.shape[0]]), pt_ours)\n",
    "    return pt_dist, mass_dist\n",
    "pt_dist, mass_dist = truncated_pt_mass(pt_ours, mass_ours)\n",
    "print('pt_dist, mass_dist', pt_dist, mass_dist)"
   ]
  },
  {
   "cell_type": "code",
   "execution_count": 57,
   "metadata": {},
   "outputs": [
    {
     "name": "stdout",
     "output_type": "stream",
     "text": [
      "pt_dist_lagan, mass_dist_lagan 2.58603487262 1.47142922477\n"
     ]
    }
   ],
   "source": [
    "pt_dist_lagan, mass_dist_lagan = truncated_pt_mass(discrete_pt(samples_lagan), discrete_mass(samples_lagan))\n",
    "print('pt_dist_lagan, mass_dist_lagan', pt_dist_lagan, mass_dist_lagan)"
   ]
  },
  {
   "cell_type": "code",
   "execution_count": 64,
   "metadata": {},
   "outputs": [
    {
     "data": {
      "text/plain": [
       "<matplotlib.text.Text at 0x2b87173ce7f0>"
      ]
     },
     "execution_count": 64,
     "metadata": {},
     "output_type": "execute_result"
    },
    {
     "data": {
      "image/png": "[encoded data removed]",
      "text/plain": [
       "<matplotlib.figure.Figure at 0x2b87174226d8>"
      ]
     },
     "metadata": {
      "needs_background": "light"
     },
     "output_type": "display_data"
    }
   ],
   "source": [
    "plt.bar(bins[:-1], pt_image - pt_samples, label='Ours',alpha=0.8)\n",
    "plt.bar(bins[:-1], pt_image - pt_lagan, label='LAGAN',alpha=0.5 )\n",
    "plt.legend()\n",
    "plt.title('Relative Difference of Truth and Generated Samples (Pt)')"
   ]
  },
  {
   "cell_type": "code",
   "execution_count": 97,
   "metadata": {},
   "outputs": [
    {
     "data": {
      "text/plain": [
       "<matplotlib.text.Text at 0x2b86a3c5cb00>"
      ]
     },
     "execution_count": 97,
     "metadata": {},
     "output_type": "execute_result"
    },
    {
     "data": {
      "image/png": "[encoded data removed]",
      "text/plain": [
       "<matplotlib.figure.Figure at 0x2b869db0fa90>"
      ]
     },
     "metadata": {},
     "output_type": "display_data"
    }
   ],
   "source": [
    "plt.plot(bins[:-1], pt_image - pt_samples, '.', label='Ours')\n",
    "plt.plot(bins[:-1], pt_image - pt_lagan, '.', label='LAGAN')\n",
    "plt.legend()\n",
    "plt.title('Relative Difference of Truth and Generated Samples (Pt)')"
   ]
  },
  {
   "cell_type": "code",
   "execution_count": 136,
   "metadata": {},
   "outputs": [
    {
     "data": {
      "text/plain": [
       "<matplotlib.text.Text at 0x2b87aa0b8160>"
      ]
     },
     "execution_count": 136,
     "metadata": {},
     "output_type": "execute_result"
    },
    {
     "data": {
      "image/png": "[encoded data removed]",
      "text/plain": [
       "<matplotlib.figure.Figure at 0x2b87a9cbaa58>"
      ]
     },
     "metadata": {},
     "output_type": "display_data"
    }
   ],
   "source": [
    "plt.plot(bins[:-1], (pt_image - pt_samples)/np.sum(pt_image), '.', label='Ours')\n",
    "plt.plot(bins[:-1], (pt_image - pt_lagan)/np.sum(pt_image), '.', label='LAGAN')\n",
    "# plt.\n",
    "plt.legend()\n",
    "# plt.ylim(-1,1)\n",
    "plt.title('Normalized Difference of Truth and Generated Samples (Pt)')\n",
    "\n",
    "\n"
   ]
  },
  {
   "cell_type": "markdown",
   "metadata": {},
   "source": [
    "# $\\tau$"
   ]
  },
  {
   "cell_type": "code",
   "execution_count": 7,
   "metadata": {},
   "outputs": [
    {
     "name": "stdout",
     "output_type": "stream",
     "text": [
      "20000\n"
     ]
    },
    {
     "ename": "ValueError",
     "evalue": "operands could not be broadcast together with shapes (20000,625) (25,25) ",
     "output_type": "error",
     "traceback": [
      "\u001b[0;31m---------------------------------------------------------------------------\u001b[0m",
      "\u001b[0;31mValueError\u001b[0m                                Traceback (most recent call last)",
      "\u001b[0;32m<ipython-input-7-c23673c03dd5>\u001b[0m in \u001b[0;36m<module>\u001b[0;34m\u001b[0m\n\u001b[1;32m      1\u001b[0m \u001b[0;32mimport\u001b[0m \u001b[0mplot_utils\u001b[0m\u001b[0;34m\u001b[0m\u001b[0m\n\u001b[0;32m----> 2\u001b[0;31m \u001b[0mplot_utils\u001b[0m\u001b[0;34m.\u001b[0m\u001b[0m_tau1\u001b[0m\u001b[0;34m(\u001b[0m\u001b[0mimage\u001b[0m\u001b[0;34m[\u001b[0m\u001b[0;34m:\u001b[0m\u001b[0;36m20000\u001b[0m\u001b[0;34m]\u001b[0m\u001b[0;34m.\u001b[0m\u001b[0mreshape\u001b[0m\u001b[0;34m(\u001b[0m\u001b[0;36m20000\u001b[0m\u001b[0;34m,\u001b[0m\u001b[0;36m625\u001b[0m\u001b[0;34m)\u001b[0m\u001b[0;34m)\u001b[0m\u001b[0;34m\u001b[0m\u001b[0m\n\u001b[0m",
      "\u001b[0;32m/extra/yadongl10/BIG_sandbox/SparseImageFlows/Notebooks/plot_utils.py\u001b[0m in \u001b[0;36m_tau1\u001b[0;34m(jet_image)\u001b[0m\n\u001b[1;32m     72\u001b[0m     \u001b[0mtau1_axis_phi\u001b[0m \u001b[0;34m=\u001b[0m \u001b[0mphi_ravel\u001b[0m\u001b[0;34m[\u001b[0m\u001b[0mnp\u001b[0m\u001b[0;34m.\u001b[0m\u001b[0margmax\u001b[0m\u001b[0;34m(\u001b[0m\u001b[0mjet_image\u001b[0m\u001b[0;34m,\u001b[0m\u001b[0maxis\u001b[0m\u001b[0;34m=\u001b[0m\u001b[0;36m1\u001b[0m\u001b[0;34m)\u001b[0m\u001b[0;34m]\u001b[0m\u001b[0;34m\u001b[0m\u001b[0m\n\u001b[1;32m     73\u001b[0m     tau1 = np.sum(jet_image * \n\u001b[0;32m---> 74\u001b[0;31m             \u001b[0mnp\u001b[0m\u001b[0;34m.\u001b[0m\u001b[0msqrt\u001b[0m\u001b[0;34m(\u001b[0m\u001b[0mnp\u001b[0m\u001b[0;34m.\u001b[0m\u001b[0msquare\u001b[0m\u001b[0;34m(\u001b[0m\u001b[0mtau1_axis_eta\u001b[0m \u001b[0;34m-\u001b[0m \u001b[0meta\u001b[0m\u001b[0;34m)\u001b[0m \u001b[0;34m+\u001b[0m \u001b[0mnp\u001b[0m\u001b[0;34m.\u001b[0m\u001b[0msquare\u001b[0m\u001b[0;34m(\u001b[0m\u001b[0;34m[\u001b[0m\u001b[0mdphi\u001b[0m\u001b[0;34m(\u001b[0m\u001b[0mtau1_axis_phi\u001b[0m\u001b[0;34m,\u001b[0m \u001b[0mp\u001b[0m\u001b[0;34m)\u001b[0m \u001b[0;32mfor\u001b[0m \u001b[0mp\u001b[0m \u001b[0;32min\u001b[0m \u001b[0mphi\u001b[0m\u001b[0;34m.\u001b[0m\u001b[0mravel\u001b[0m\u001b[0;34m(\u001b[0m\u001b[0;34m)\u001b[0m\u001b[0;34m]\u001b[0m\u001b[0;34m)\u001b[0m\u001b[0;34m.\u001b[0m\u001b[0mreshape\u001b[0m\u001b[0;34m(\u001b[0m\u001b[0;36m25\u001b[0m\u001b[0;34m,\u001b[0m \u001b[0;36m25\u001b[0m\u001b[0;34m)\u001b[0m\u001b[0;34m)\u001b[0m\u001b[0;34m\u001b[0m\u001b[0m\n\u001b[0m\u001b[1;32m     75\u001b[0m                  ) \n\u001b[1;32m     76\u001b[0m     \u001b[0;32mreturn\u001b[0m \u001b[0mtau1\u001b[0m \u001b[0;34m/\u001b[0m \u001b[0mnp\u001b[0m\u001b[0;34m.\u001b[0m\u001b[0msum\u001b[0m\u001b[0;34m(\u001b[0m\u001b[0mjet_image\u001b[0m\u001b[0;34m)\u001b[0m \u001b[0;31m# normalize by the total intensity\u001b[0m\u001b[0;34m\u001b[0m\u001b[0m\n",
      "\u001b[0;31mValueError\u001b[0m: operands could not be broadcast together with shapes (20000,625) (25,25) "
     ]
    }
   ],
   "source": [
    "import plot_utils\n",
    "plot_utils._tau1(image[:20000].reshape(20000,625))"
   ]
  },
  {
   "cell_type": "code",
   "execution_count": 6,
   "metadata": {},
   "outputs": [
    {
     "ename": "UnboundLocalError",
     "evalue": "local variable 'eta' referenced before assignment",
     "output_type": "error",
     "traceback": [
      "\u001b[0;31m---------------------------------------------------------------------------\u001b[0m",
      "\u001b[0;31mUnboundLocalError\u001b[0m                         Traceback (most recent call last)",
      "\u001b[0;32m<ipython-input-6-fa9b9ab2109a>\u001b[0m in \u001b[0;36m<module>\u001b[0;34m\u001b[0m\n\u001b[1;32m      2\u001b[0m \u001b[0;31m# bins = np.linspace(200, 340, 50)\u001b[0m\u001b[0;34m\u001b[0m\u001b[0;34m\u001b[0m\u001b[0m\n\u001b[1;32m      3\u001b[0m \u001b[0;34m\u001b[0m\u001b[0m\n\u001b[0;32m----> 4\u001b[0;31m pt_image, _, _ = plt.hist(tau21(image[:20000]), \n\u001b[0m\u001b[1;32m      5\u001b[0m              bins=bins, histtype='step', label=r'Truth ($W->WD$)', normed=False, color='blue', linestyle='dashed')\n\u001b[1;32m      6\u001b[0m pt_samples, _, _ = plt.hist(tau21(samples_bg), \n",
      "\u001b[0;32m/extra/yadongl10/BIG_sandbox/SparseImageFlows/Notebooks/plot_utils.py\u001b[0m in \u001b[0;36mtau21\u001b[0;34m(jet_image)\u001b[0m\n\u001b[1;32m    148\u001b[0m         \u001b[0mslow\u001b[0m \u001b[0mimplementation\u001b[0m\u001b[0;34m\u001b[0m\u001b[0m\n\u001b[1;32m    149\u001b[0m     '''\n\u001b[0;32m--> 150\u001b[0;31m     \u001b[0mtau1\u001b[0m \u001b[0;34m=\u001b[0m \u001b[0m_tau1\u001b[0m\u001b[0;34m(\u001b[0m\u001b[0mjet_image\u001b[0m\u001b[0;34m)\u001b[0m\u001b[0;34m\u001b[0m\u001b[0m\n\u001b[0m\u001b[1;32m    151\u001b[0m     \u001b[0;32mif\u001b[0m \u001b[0mtau1\u001b[0m \u001b[0;34m<=\u001b[0m \u001b[0;36m0\u001b[0m\u001b[0;34m:\u001b[0m\u001b[0;34m\u001b[0m\u001b[0m\n\u001b[1;32m    152\u001b[0m         \u001b[0;32mreturn\u001b[0m \u001b[0;36m0\u001b[0m\u001b[0;34m\u001b[0m\u001b[0m\n",
      "\u001b[0;32m/extra/yadongl10/BIG_sandbox/SparseImageFlows/Notebooks/plot_utils.py\u001b[0m in \u001b[0;36m_tau1\u001b[0;34m(jet_image)\u001b[0m\n\u001b[1;32m     66\u001b[0m     \u001b[0;31m# find coordinate of most energetic pixel, then use formula to compute tau1\u001b[0m\u001b[0;34m\u001b[0m\u001b[0;34m\u001b[0m\u001b[0m\n\u001b[1;32m     67\u001b[0m     \u001b[0mnum_sample\u001b[0m \u001b[0;34m=\u001b[0m \u001b[0mjet_image\u001b[0m\u001b[0;34m.\u001b[0m\u001b[0mshape\u001b[0m\u001b[0;34m[\u001b[0m\u001b[0;36m0\u001b[0m\u001b[0;34m]\u001b[0m\u001b[0;34m\u001b[0m\u001b[0m\n\u001b[0;32m---> 68\u001b[0;31m     \u001b[0meta\u001b[0m \u001b[0;34m=\u001b[0m \u001b[0mnp\u001b[0m\u001b[0;34m.\u001b[0m\u001b[0mtile\u001b[0m\u001b[0;34m(\u001b[0m\u001b[0meta\u001b[0m\u001b[0;34m.\u001b[0m\u001b[0mravel\u001b[0m\u001b[0;34m(\u001b[0m\u001b[0;34m)\u001b[0m\u001b[0;34m,\u001b[0m \u001b[0;34m(\u001b[0m\u001b[0mnum_sample\u001b[0m\u001b[0;34m,\u001b[0m \u001b[0;36m1\u001b[0m\u001b[0;34m)\u001b[0m\u001b[0;34m)\u001b[0m\u001b[0;34m\u001b[0m\u001b[0m\n\u001b[0m\u001b[1;32m     69\u001b[0m     \u001b[0mphi\u001b[0m \u001b[0;34m=\u001b[0m \u001b[0mnp\u001b[0m\u001b[0;34m.\u001b[0m\u001b[0mtile\u001b[0m\u001b[0;34m(\u001b[0m\u001b[0mphi\u001b[0m\u001b[0;34m.\u001b[0m\u001b[0mravel\u001b[0m\u001b[0;34m(\u001b[0m\u001b[0;34m)\u001b[0m\u001b[0;34m,\u001b[0m \u001b[0;34m(\u001b[0m\u001b[0mnum_sample\u001b[0m\u001b[0;34m,\u001b[0m \u001b[0;36m1\u001b[0m\u001b[0;34m)\u001b[0m\u001b[0;34m)\u001b[0m\u001b[0;34m\u001b[0m\u001b[0m\n\u001b[1;32m     70\u001b[0m     \u001b[0mtau1_axis_eta\u001b[0m \u001b[0;34m=\u001b[0m \u001b[0meta\u001b[0m\u001b[0;34m[\u001b[0m\u001b[0mnp\u001b[0m\u001b[0;34m.\u001b[0m\u001b[0margmax\u001b[0m\u001b[0;34m(\u001b[0m\u001b[0mjet_image\u001b[0m\u001b[0;34m,\u001b[0m\u001b[0maxis\u001b[0m\u001b[0;34m=\u001b[0m\u001b[0;36m1\u001b[0m\u001b[0;34m)\u001b[0m\u001b[0;34m]\u001b[0m\u001b[0;34m\u001b[0m\u001b[0m\n",
      "\u001b[0;31mUnboundLocalError\u001b[0m: local variable 'eta' referenced before assignment"
     ]
    },
    {
     "data": {
      "image/png": "[encoded data removed]",
      "text/plain": [
       "<matplotlib.figure.Figure at 0x2b449c857748>"
      ]
     },
     "metadata": {
      "needs_background": "light"
     },
     "output_type": "display_data"
    }
   ],
   "source": [
    "fig, ax = plt.subplots(figsize=(6, 6))\n",
    "# bins = np.linspace(200, 340, 50)\n",
    "\n",
    "pt_image, _, _ = plt.hist(tau21(image[:20000]), \n",
    "             bins=bins, histtype='step', label=r'Truth ($W->WD$)', normed=False, color='blue', linestyle='dashed')\n",
    "pt_samples, _, _ = plt.hist(tau21(samples_bg), \n",
    "             bins=bins, histtype='step', label=r'Ours ($W->WD$)', normed=False, color='purple')\n",
    "pt_lagan, _, _ = plt.hist(tau21(samples_lagan), \n",
    "             bins=bins, histtype='step', label=r'LAGAN ($W->WD$)', normed=False, color='green', linestyle='dashed')\n",
    "plt.xlabel(r'Discretized $p_T$ of Jet Image')\n",
    "plt.ylabel(r'Units normalized to unit area')\n",
    "plt.legend()"
   ]
  },
  {
   "cell_type": "markdown",
   "metadata": {},
   "source": [
    "# Pixelwise"
   ]
  },
  {
   "cell_type": "code",
   "execution_count": 112,
   "metadata": {},
   "outputs": [
    {
     "data": {
      "text/plain": [
       "<matplotlib.legend.Legend at 0x2b86c5da2fd0>"
      ]
     },
     "execution_count": 112,
     "metadata": {},
     "output_type": "execute_result"
    },
    {
     "data": {
      "image/png": "[encoded data removed]",
      "text/plain": [
       "<matplotlib.figure.Figure at 0x2b86c5e33c50>"
      ]
     },
     "metadata": {},
     "output_type": "display_data"
    }
   ],
   "source": [
    "import seaborn as sns \n",
    "x=12\n",
    "y=13\n",
    "\n",
    "# samples_bg[samples_bg<0] = 0 #-samples_bg[samples_bg<0]\n",
    "\n",
    "pixel_bg = samples_bg[:,x,y]\n",
    "# pixel_bg[pixel_bg<0] = -pixel_bg[pixel_bg<0]\n",
    "# pixel_bg = pixel_bg[pixel_bg>=0]\n",
    "# pixel_bg = np.clip(pixel_bg, a_min=0, a_max=1e5)\n",
    "\n",
    "pixel = image[:,x,y]\n",
    "# pixel = pixel[pixel>=0]\n",
    "pixel_lagan = samples_lagan[:,x,y]\n",
    "\n",
    "x = np.linspace(0.0,200, 1000)\n",
    "sns.distplot(pixel, label='Truth', bins=50)\n",
    "sns.distplot(pixel_bg, label='our sample', bins=50)\n",
    "# sns.distplot(pixel_lagan, label='lagan sample', bins=50)\n",
    "\n",
    "plt.legend()\n",
    "\n"
   ]
  },
  {
   "cell_type": "code",
   "execution_count": 106,
   "metadata": {},
   "outputs": [
    {
     "data": {
      "text/plain": [
       "<matplotlib.legend.Legend at 0x2b86a3e25cc0>"
      ]
     },
     "execution_count": 106,
     "metadata": {},
     "output_type": "execute_result"
    },
    {
     "data": {
      "image/png": "[encoded data removed]",
      "text/plain": [
       "<matplotlib.figure.Figure at 0x2b86a3e06240>"
      ]
     },
     "metadata": {},
     "output_type": "display_data"
    }
   ],
   "source": [
    "fig, ax = plt.subplots(figsize=(7, 6))\n",
    "\n",
    "_, bins, _ = plt.hist(image[:20000].ravel(), \n",
    "           bins=np.linspace(0,300,50), histtype='step', label='Truth signal', color='blue')\n",
    "\n",
    "_, bins, _ = plt.hist(samples_bg.ravel(),  # to make sure have same amount of samples\n",
    "           bins=np.linspace(0,300,50), histtype='step', label='Ours signal', color='purple')\n",
    "\n",
    "_, bins, _ = plt.hist(samples_lagan.ravel(), \n",
    "           bins=np.linspace(0,300,50), histtype='step', label='LAGAN signal', color='green')\n",
    "\n",
    "plt.xlabel('Pixel Intensity')\n",
    "plt.ylabel('Number of Pixels')\n",
    "plt.yscale('log')\n",
    "plt.legend(loc='upper right')"
   ]
  },
  {
   "cell_type": "code",
   "execution_count": 50,
   "metadata": {},
   "outputs": [
    {
     "name": "stdout",
     "output_type": "stream",
     "text": [
      "overall sparsity: truth and samples: 0.9046188521152423 0.9664888\n"
     ]
    }
   ],
   "source": [
    "print('overall sparsity: truth and samples:',\n",
    "      np.where(image.ravel()==0)[0].shape[0] / image.ravel().shape[0],\n",
    "      np.where(samples_bg.ravel()==0)[0].shape[0] / samples_bg.ravel().shape[0])\n"
   ]
  },
  {
   "cell_type": "code",
   "execution_count": 1854,
   "metadata": {},
   "outputs": [
    {
     "name": "stdout",
     "output_type": "stream",
     "text": [
      "0.9998 1.0\n",
      "0.9995 1.0\n",
      "0.9991 1.0\n",
      "0.9983 1.0\n",
      "0.9949 1.0\n",
      "0.9841 1.0\n",
      "0.9556 1.0\n",
      "0.8883 1.0\n",
      "0.7593 1.0\n",
      "0.5851 0.9398\n",
      "0.471 0.71275\n",
      "0.0189 0.13265\n",
      "0.0102 0.01045\n",
      "0.0128 0.11235\n",
      "0.3225 0.63315\n",
      "0.5014 0.8722\n",
      "0.643 0.9952\n",
      "0.7975 1.0\n",
      "0.9019 1.0\n",
      "0.9581 1.0\n",
      "0.9822 1.0\n",
      "0.9892 1.0\n",
      "0.9955 1.0\n",
      "0.9988 1.0\n",
      "0.9991 1.0\n"
     ]
    }
   ],
   "source": [
    "for y in range(0, 25):\n",
    "    x = 12\n",
    "    pixel = image[:,x,y]\n",
    "    pixel_bg = samples_bg[:,x,y]\n",
    "    print(np.where(pixel.ravel()==0)[0].shape[0] / pixel.ravel().shape[0],\n",
    "         np.where(pixel_bg.ravel()==0)[0].shape[0] / pixel_bg.ravel().shape[0])"
   ]
  },
  {
   "cell_type": "code",
   "execution_count": 1156,
   "metadata": {},
   "outputs": [
    {
     "data": {
      "text/plain": [
       "array([[   2.16315316,   10.92984954,    6.490462  ],\n",
       "       [   6.51890609,  114.99481613,   19.09287482],\n",
       "       [   1.82201643,   12.79510431,    6.63102765]])"
      ]
     },
     "execution_count": 1156,
     "metadata": {},
     "output_type": "execute_result"
    }
   ],
   "source": [
    "samples_bg.mean(axis=0)[11:14, 11:14]"
   ]
  },
  {
   "cell_type": "code",
   "execution_count": 1157,
   "metadata": {},
   "outputs": [
    {
     "data": {
      "text/plain": [
       "array([[   1.90851796,   13.12642097,    6.79488897],\n",
       "       [   6.82761383,  110.55780792,   18.00856209],\n",
       "       [   1.75371659,   12.20269966,    6.11074781]], dtype=float32)"
      ]
     },
     "execution_count": 1157,
     "metadata": {},
     "output_type": "execute_result"
    }
   ],
   "source": [
    "image.mean(axis=0)[11:14, 11:14]"
   ]
  },
  {
   "cell_type": "code",
   "execution_count": 1159,
   "metadata": {},
   "outputs": [
    {
     "data": {
      "text/plain": [
       "array([[   0.95250118,   12.159935  ,    8.50615501],\n",
       "       [   5.98825836,  114.24207306,   21.09420395],\n",
       "       [   2.89799595,   12.50446987,    3.31072712]], dtype=float32)"
      ]
     },
     "execution_count": 1159,
     "metadata": {},
     "output_type": "execute_result"
    }
   ],
   "source": [
    "samples_lagan.mean(axis=0)[11:14, 11:14]"
   ]
  },
  {
   "cell_type": "code",
   "execution_count": null,
   "metadata": {},
   "outputs": [],
   "source": []
  },
  {
   "cell_type": "markdown",
   "metadata": {},
   "source": [
    "# $\\chi^2$ test "
   ]
  },
  {
   "cell_type": "code",
   "execution_count": 75,
   "metadata": {},
   "outputs": [],
   "source": [
    "class ChiSquareTest(object):\n",
    "    def __init__(self, bins, truth):\n",
    "        self.bins = bins\n",
    "        self.expectation = self.get_bin_count(truth, bins)\n",
    "\n",
    "    def getChisquare(self, image):\n",
    "        count = self.get_bin_count(image, self.bins)\n",
    "        distance = 0\n",
    "        for i in range(self.bins):\n",
    "            for j in range(self.bins):\n",
    "                if self.expectation[i,j] != 0.0:\n",
    "                    distance += (count[i,j] - self.expectation[i,j])**2 / self.expectation[i,j]\n",
    "        return distance, count\n",
    "\n",
    "    def get_bin_count(self, image, bins):\n",
    "        count = np.zeros((bins, bins))\n",
    "        mass, pt = image[0], image[1]\n",
    "        min_mass, max_mass, min_pt, max_pt = mass.min(), mass.max(), pt.min(), pt.max()\n",
    "        bin_size_mass, bin_size_pt = (max_mass - min_mass) / bins + 1e-5, (max_pt - min_pt) / bins + 1e-5\n",
    "        for i in range(image[0].shape[0]):\n",
    "            id_mass, id_pt = int((mass[i] - min_mass) // bin_size_mass), int((pt[i] - min_pt) // bin_size_pt)\n",
    "            count[id_mass, id_pt] += 1\n",
    "        return count\n"
   ]
  },
  {
   "cell_type": "code",
   "execution_count": 100,
   "metadata": {},
   "outputs": [
    {
     "name": "stdout",
     "output_type": "stream",
     "text": [
      "113364.471018\n"
     ]
    },
    {
     "data": {
      "text/plain": [
       "66426.184993418792"
      ]
     },
     "execution_count": 100,
     "metadata": {},
     "output_type": "execute_result"
    }
   ],
   "source": [
    "bins = 10\n",
    "mass, pt = discrete_mass(image[:20000]), discrete_pt(image[:20000])\n",
    "chi2 = ChiSquareTest(bins=bins, truth=(mass, pt))\n",
    "\n",
    "mass_ours, pt_ours = discrete_mass(samples_bg), discrete_pt(samples_bg)\n",
    "distance_ours, count_ours = chi2.getChisquare((mass_ours, pt_ours))\n",
    "print(distance_ours)\n",
    "mass_lagan, pt_lagan = discrete_mass(samples_lagan), discrete_pt(samples_lagan)\n",
    "distance_lagan, count_lagan = chi2.getChisquare((mass_lagan, pt_lagan))\n",
    "distance_lagan"
   ]
  },
  {
   "cell_type": "code",
   "execution_count": 1,
   "metadata": {},
   "outputs": [
    {
     "ename": "NameError",
     "evalue": "name 'plt' is not defined",
     "output_type": "error",
     "traceback": [
      "\u001b[0;31m---------------------------------------------------------------------------\u001b[0m",
      "\u001b[0;31mNameError\u001b[0m                                 Traceback (most recent call last)",
      "\u001b[0;32m<ipython-input-1-1dba98d958ba>\u001b[0m in \u001b[0;36m<module>\u001b[0;34m\u001b[0m\n\u001b[1;32m      1\u001b[0m \u001b[0;32mfrom\u001b[0m \u001b[0mmpl_toolkits\u001b[0m\u001b[0;34m.\u001b[0m\u001b[0mmplot3d\u001b[0m \u001b[0;32mimport\u001b[0m \u001b[0mAxes3D\u001b[0m\u001b[0;34m\u001b[0m\u001b[0m\n\u001b[0;32m----> 2\u001b[0;31m \u001b[0mfig\u001b[0m \u001b[0;34m=\u001b[0m \u001b[0mplt\u001b[0m\u001b[0;34m.\u001b[0m\u001b[0mfigure\u001b[0m\u001b[0;34m(\u001b[0m\u001b[0mfigsize\u001b[0m\u001b[0;34m=\u001b[0m\u001b[0;34m(\u001b[0m\u001b[0;36m18\u001b[0m\u001b[0;34m,\u001b[0m \u001b[0;36m4.5\u001b[0m\u001b[0;34m)\u001b[0m\u001b[0;34m)\u001b[0m\u001b[0;34m\u001b[0m\u001b[0m\n\u001b[0m\u001b[1;32m      3\u001b[0m \u001b[0max1\u001b[0m \u001b[0;34m=\u001b[0m \u001b[0mfig\u001b[0m\u001b[0;34m.\u001b[0m\u001b[0madd_subplot\u001b[0m\u001b[0;34m(\u001b[0m\u001b[0;36m131\u001b[0m\u001b[0;34m,\u001b[0m \u001b[0mprojection\u001b[0m\u001b[0;34m=\u001b[0m\u001b[0;34m'3d'\u001b[0m\u001b[0;34m)\u001b[0m\u001b[0;34m\u001b[0m\u001b[0m\n\u001b[1;32m      4\u001b[0m \u001b[0max2\u001b[0m \u001b[0;34m=\u001b[0m \u001b[0mfig\u001b[0m\u001b[0;34m.\u001b[0m\u001b[0madd_subplot\u001b[0m\u001b[0;34m(\u001b[0m\u001b[0;36m132\u001b[0m\u001b[0;34m,\u001b[0m \u001b[0mprojection\u001b[0m\u001b[0;34m=\u001b[0m\u001b[0;34m'3d'\u001b[0m\u001b[0;34m)\u001b[0m\u001b[0;34m\u001b[0m\u001b[0m\n\u001b[1;32m      5\u001b[0m \u001b[0max3\u001b[0m \u001b[0;34m=\u001b[0m \u001b[0mfig\u001b[0m\u001b[0;34m.\u001b[0m\u001b[0madd_subplot\u001b[0m\u001b[0;34m(\u001b[0m\u001b[0;36m133\u001b[0m\u001b[0;34m,\u001b[0m \u001b[0mprojection\u001b[0m\u001b[0;34m=\u001b[0m\u001b[0;34m'3d'\u001b[0m\u001b[0;34m)\u001b[0m\u001b[0;34m\u001b[0m\u001b[0m\n",
      "\u001b[0;31mNameError\u001b[0m: name 'plt' is not defined"
     ]
    }
   ],
   "source": [
    "from mpl_toolkits.mplot3d import Axes3D\n",
    "fig = plt.figure(figsize=(18, 4.5))\n",
    "ax1 = fig.add_subplot(131, projection='3d')\n",
    "ax2 = fig.add_subplot(132, projection='3d')\n",
    "ax3 = fig.add_subplot(133, projection='3d')\n",
    "\n",
    "_x = np.arange(bins)\n",
    "_y = np.arange(bins)\n",
    "_xx, _yy = np.meshgrid(_x, _y)\n",
    "x, y = _xx.ravel(), _yy.ravel()\n",
    "bottom = np.zeros_like(x)\n",
    "width = depth = 1\n",
    "\n",
    "# ax1.scatter(x,y,count_truth.ravel(), c=count_truth.ravel())\n",
    "ax1.bar3d(x, y, bottom, width, depth, count_truth.ravel(), color=\"yellow\")\n",
    "ax2.bar3d(x, y, bottom, width, depth, count_ours.ravel(), color=\"yellow\")\n",
    "ax3.bar3d(x, y, bottom, width, depth, count_lagan.ravel(), color=\"yellow\")\n",
    "\n",
    "ax1.set_title('truth')\n",
    "ax2.set_title('ours')\n",
    "ax3.set_title('lagan')\n",
    "\n",
    "for ax in [ax1, ax2, ax3]:\n",
    "    ax.set_zlim((0,6000))\n",
    "    ax.set_xlabel('pt')\n",
    "    ax.set_ylabel('mass')\n",
    "    ax.set_zlabel('count')\n",
    "    \n",
    "\n",
    "plt.show()"
   ]
  },
  {
   "cell_type": "code",
   "execution_count": 141,
   "metadata": {},
   "outputs": [],
   "source": [
    "# ax1 = plt.axes(projection='3d')\n",
    "# ax1.plot_surface(x, y, count_truth.ravel())\n",
    "# ax1.set_title('surface')\n",
    "# # plt.show()"
   ]
  },
  {
   "cell_type": "code",
   "execution_count": 3,
   "metadata": {},
   "outputs": [
    {
     "data": {
      "text/plain": [
       "array([ 0. ,  1. ,  2.5,  4. ,  1.5])"
      ]
     },
     "execution_count": 3,
     "metadata": {},
     "output_type": "execute_result"
    }
   ],
   "source": [
    "import numpy as np\n",
    "np.convolve([1, 2, 3], [0, 1, 0.5])"
   ]
  },
  {
   "cell_type": "code",
   "execution_count": 9,
   "metadata": {},
   "outputs": [
    {
     "data": {
      "text/plain": [
       "array([1, 2])"
      ]
     },
     "execution_count": 9,
     "metadata": {},
     "output_type": "execute_result"
    }
   ],
   "source": [
    "np.convolve([1,2,3],[0,1], 'valid')"
   ]
  }
 ],
 "metadata": {
  "kernelspec": {
   "display_name": "Python pytorch",
   "language": "python",
   "name": "pytorch"
  },
  "language_info": {
   "codemirror_mode": {
    "name": "ipython",
    "version": 3
   },
   "file_extension": ".py",
   "mimetype": "text/x-python",
   "name": "python",
   "nbconvert_exporter": "python",
   "pygments_lexer": "ipython3",
   "version": "3.6.3"
  }
 },
 "nbformat": 4,
 "nbformat_minor": 2
}
