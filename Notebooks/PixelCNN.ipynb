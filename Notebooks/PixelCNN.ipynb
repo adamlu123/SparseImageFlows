{
 "cells": [
  {
   "cell_type": "code",
   "execution_count": 1,
   "metadata": {},
   "outputs": [],
   "source": [
    "%matplotlib inline\n",
    "import sys\n",
    "import matplotlib.pyplot as plt\n",
    "import numpy as np\n",
    "import h5py\n",
    "import random\n",
    "import pickle as pkl\n",
    "import os\n",
    "import torch\n",
    "sys.path.append('/extra/yadongl10/BIG_sandbox/SparseImageFlows')\n",
    "import data_loader\n",
    "import imp\n",
    "imp.reload(data_loader)\n",
    "from torch.distributions import Normal, Bernoulli\n",
    "import h5py\n",
    "import numpy as np\n",
    "import utils\n",
    "from data_loader import load_LAGAN, load_data_LAGAN\n",
    "from plot_utils import discrete_mass, discrete_pt, ChiSquareTest\n",
    "import seaborn as sns"
   ]
  },
  {
   "cell_type": "code",
   "execution_count": 26,
   "metadata": {},
   "outputs": [
    {
     "name": "stdout",
     "output_type": "stream",
     "text": [
      "background\n",
      "concatenate\n",
      "signal\n"
     ]
    },
    {
     "data": {
      "text/plain": [
       "(1000, 25, 25)"
      ]
     },
     "execution_count": 26,
     "metadata": {},
     "output_type": "execute_result"
    }
   ],
   "source": [
    "img_dir = \"/baldig/physicsprojects/lagan\"\n",
    "with h5py.File(img_dir + '/discretized_lagan.h5', 'r') as f:\n",
    "    for i in f:\n",
    "        print(i)\n",
    "    image = np.asarray(f['signal'][:1000])\n",
    "image.shape"
   ]
  },
  {
   "cell_type": "code",
   "execution_count": 62,
   "metadata": {},
   "outputs": [],
   "source": [
    "filename = '/extra/yadongl10/BIG_sandbox/SparseImageFlows_result/lagan_pixelcnn/a1_b3/2019-12-09/samples_epoch-2.pkl'\n",
    "with open(filename, 'rb') as f:\n",
    "    x = pkl.load(f)\n",
    "samples_sg = np.asarray(x).squeeze()\n"
   ]
  },
  {
   "cell_type": "code",
   "execution_count": 63,
   "metadata": {},
   "outputs": [
    {
     "data": {
      "text/plain": [
       "<matplotlib.colorbar.Colorbar at 0x2b4ca2324198>"
      ]
     },
     "execution_count": 63,
     "metadata": {},
     "output_type": "execute_result"
    },
    {
     "data": {
      "image/png": "[encoded data removed]",
      "text/plain": [
       "<matplotlib.figure.Figure at 0x2b4ca2239748>"
      ]
     },
     "metadata": {
      "needs_background": "light"
     },
     "output_type": "display_data"
    }
   ],
   "source": [
    "plt.imshow(samples_sg.mean(axis=0))\n",
    "plt.colorbar()"
   ]
  },
  {
   "cell_type": "code",
   "execution_count": 51,
   "metadata": {},
   "outputs": [
    {
     "data": {
      "text/plain": [
       "129.0"
      ]
     },
     "execution_count": 51,
     "metadata": {},
     "output_type": "execute_result"
    }
   ],
   "source": [
    "samples_sg.shape\n",
    "samples_sg.max()"
   ]
  },
  {
   "cell_type": "code",
   "execution_count": null,
   "metadata": {},
   "outputs": [],
   "source": []
  }
 ],
 "metadata": {
  "kernelspec": {
   "display_name": "Python [conda env:pytorch] *",
   "language": "python",
   "name": "conda-env-pytorch-py"
  },
  "language_info": {
   "codemirror_mode": {
    "name": "ipython",
    "version": 3
   },
   "file_extension": ".py",
   "mimetype": "text/x-python",
   "name": "python",
   "nbconvert_exporter": "python",
   "pygments_lexer": "ipython3",
   "version": "3.6.3"
  }
 },
 "nbformat": 4,
 "nbformat_minor": 2
}
