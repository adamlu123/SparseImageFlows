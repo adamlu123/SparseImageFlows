{
 "cells": [
  {
   "cell_type": "code",
   "execution_count": 1,
   "metadata": {},
   "outputs": [],
   "source": [
    "%matplotlib inline\n",
    "import sys\n",
    "import matplotlib.pyplot as plt\n",
    "import numpy as np\n",
    "import h5py\n",
    "import random\n",
    "import pickle as pkl\n",
    "import os\n",
    "import torch\n",
    "sys.path.append('/extra/yadongl10/BIG_sandbox/SparseImageFlows')\n",
    "import data_loader\n",
    "import imp\n",
    "imp.reload(data_loader)\n",
    "from torch.distributions import Normal, Bernoulli\n",
    "import h5py\n",
    "import numpy as np\n",
    "import utils\n",
    "from data_loader import load_LAGAN, load_data_LAGAN\n",
    "from plot_utils import discrete_mass, discrete_pt\n",
    "import seaborn as sns"
   ]
  },
  {
   "cell_type": "markdown",
   "metadata": {},
   "source": [
    "# 1. Transform and create one-hot image dataset"
   ]
  },
  {
   "cell_type": "code",
   "execution_count": 12,
   "metadata": {},
   "outputs": [],
   "source": [
    "# quantize dataset to [0,1,...,300]\n",
    "image = load_data_LAGAN(subset='background')  # signal\n",
    "bins = np.linspace(0,284,285)\n",
    "inds = np.digitize(image, bins)\n",
    "quantized_image = np.digitize(image, bins, right=False) - 1"
   ]
  },
  {
   "cell_type": "code",
   "execution_count": 14,
   "metadata": {},
   "outputs": [],
   "source": [
    "# img_dir = \"/baldig/physicsprojects/lagan\"\n",
    "# with h5py.File(img_dir + '/discretized_lagan.h5', 'w') as f:\n",
    "#     f.create_dataset('signal', data=quantized_image)\n",
    "img_dir = \"/baldig/physicsprojects/lagan\"\n",
    "with h5py.File(img_dir + '/discretized_lagan.h5', 'a') as f:\n",
    "    f.create_dataset('background', data=quantized_image)"
   ]
  },
  {
   "cell_type": "code",
   "execution_count": 11,
   "metadata": {},
   "outputs": [
    {
     "data": {
      "text/plain": [
       "(284.67654, 0.0, 0.44451484)"
      ]
     },
     "execution_count": 11,
     "metadata": {},
     "output_type": "execute_result"
    }
   ],
   "source": [
    "image.max(), image.min(), image.mean()"
   ]
  },
  {
   "cell_type": "code",
   "execution_count": 13,
   "metadata": {},
   "outputs": [
    {
     "data": {
      "text/plain": [
       "(284, 0, 0.41092748520052347)"
      ]
     },
     "execution_count": 13,
     "metadata": {},
     "output_type": "execute_result"
    }
   ],
   "source": [
    "quantized_image.max(), quantized_image.min(), quantized_image.mean()"
   ]
  },
  {
   "cell_type": "code",
   "execution_count": 15,
   "metadata": {},
   "outputs": [
    {
     "name": "stdout",
     "output_type": "stream",
     "text": [
      "background\n",
      "signal\n"
     ]
    }
   ],
   "source": [
    "# check saved data\n",
    "with h5py.File(img_dir + '/discretized_lagan.h5', 'r') as f:\n",
    "    for i in f:\n",
    "        print(i)"
   ]
  },
  {
   "cell_type": "markdown",
   "metadata": {},
   "source": [
    "# 2. Load trained model"
   ]
  },
  {
   "cell_type": "code",
   "execution_count": null,
   "metadata": {},
   "outputs": [],
   "source": []
  },
  {
   "cell_type": "code",
   "execution_count": null,
   "metadata": {},
   "outputs": [],
   "source": []
  },
  {
   "cell_type": "markdown",
   "metadata": {},
   "source": [
    "# 3. Transform generated one-hot image to real value"
   ]
  },
  {
   "cell_type": "markdown",
   "metadata": {},
   "source": [
    "# 4. Compare statistics (mass, pt)"
   ]
  },
  {
   "cell_type": "code",
   "execution_count": null,
   "metadata": {},
   "outputs": [],
   "source": []
  }
 ],
 "metadata": {
  "kernelspec": {
   "display_name": "Python [conda env:pytorch] *",
   "language": "python",
   "name": "conda-env-pytorch-py"
  },
  "language_info": {
   "codemirror_mode": {
    "name": "ipython",
    "version": 3
   },
   "file_extension": ".py",
   "mimetype": "text/x-python",
   "name": "python",
   "nbconvert_exporter": "python",
   "pygments_lexer": "ipython3",
   "version": "3.6.3"
  }
 },
 "nbformat": 4,
 "nbformat_minor": 2
}
